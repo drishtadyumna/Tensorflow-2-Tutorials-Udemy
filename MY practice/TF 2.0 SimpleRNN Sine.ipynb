{
 "cells": [
  {
   "cell_type": "code",
   "execution_count": 11,
   "metadata": {},
   "outputs": [],
   "source": [
    "import numpy as np\n",
    "import matplotlib.pyplot as plt\n",
    "import tensorflow as tf"
   ]
  },
  {
   "cell_type": "code",
   "execution_count": 12,
   "metadata": {},
   "outputs": [],
   "source": [
    "series = np.sin(0.1*np.arange(200)) + np.random.randn(200)*0.1"
   ]
  },
  {
   "cell_type": "code",
   "execution_count": 13,
   "metadata": {},
   "outputs": [
    {
     "data": {
      "image/png": "[encoded data removed]",
      "text/plain": [
       "<Figure size 432x288 with 1 Axes>"
      ]
     },
     "metadata": {
      "needs_background": "light"
     },
     "output_type": "display_data"
    }
   ],
   "source": [
    "plt.plot(series)\n",
    "plt.show()"
   ]
  },
  {
   "cell_type": "code",
   "execution_count": 14,
   "metadata": {},
   "outputs": [],
   "source": [
    "X = []\n",
    "y = []\n",
    "T = 10\n",
    "for i in range(len(series)-T):\n",
    "    X.append(series[i:i+T])\n",
    "    y.append(series[i+T])"
   ]
  },
  {
   "cell_type": "code",
   "execution_count": 15,
   "metadata": {},
   "outputs": [
    {
     "data": {
      "text/plain": [
       "((190, 10, 1), (190,))"
      ]
     },
     "execution_count": 15,
     "metadata": {},
     "output_type": "execute_result"
    }
   ],
   "source": [
    "X= np.expand_dims(X, -1)\n",
    "y = np.array(y)\n",
    "X.shape, y.shape"
   ]
  },
  {
   "cell_type": "code",
   "execution_count": 16,
   "metadata": {},
   "outputs": [],
   "source": [
    "i = tf.keras.layers.Input(shape=(T,1))\n",
    "x = tf.keras.layers.SimpleRNN(5)(i)            #defult activation is tanh\n",
    "x = tf.keras.layers.Dense(1)(x)\n",
    "\n",
    "model = tf.keras.models.Model(i, x)\n",
    "\n",
    "model.compile(optimizer = tf.keras.optimizers.Adam(lr=0.1), loss='mse')"
   ]
  },
  {
   "cell_type": "code",
   "execution_count": 17,
   "metadata": {},
   "outputs": [
    {
     "name": "stdout",
     "output_type": "stream",
     "text": [
      "Train on 95 samples, validate on 95 samples\n",
      "Epoch 1/80\n",
      "95/95 [==============================] - 6s 67ms/sample - loss: 0.6656 - val_loss: 0.3306\n",
      "Epoch 2/80\n",
      "95/95 [==============================] - 0s 4ms/sample - loss: 0.1924 - val_loss: 0.1778\n",
      "Epoch 3/80\n",
      "95/95 [==============================] - 0s 2ms/sample - loss: 0.1426 - val_loss: 0.1511\n",
      "Epoch 4/80\n",
      "95/95 [==============================] - 0s 2ms/sample - loss: 0.1215 - val_loss: 0.0646\n",
      "Epoch 5/80\n",
      "95/95 [==============================] - 0s 2ms/sample - loss: 0.0615 - val_loss: 0.0735\n",
      "Epoch 6/80\n",
      "95/95 [==============================] - 0s 2ms/sample - loss: 0.0955 - val_loss: 0.0633\n",
      "Epoch 7/80\n",
      "95/95 [==============================] - 0s 2ms/sample - loss: 0.0518 - val_loss: 0.0305\n",
      "Epoch 8/80\n",
      "95/95 [==============================] - 0s 2ms/sample - loss: 0.0395 - val_loss: 0.0562\n",
      "Epoch 9/80\n",
      "95/95 [==============================] - 0s 2ms/sample - loss: 0.0526 - val_loss: 0.0397\n",
      "Epoch 10/80\n",
      "95/95 [==============================] - 0s 2ms/sample - loss: 0.0335 - val_loss: 0.0287\n",
      "Epoch 11/80\n",
      "95/95 [==============================] - 0s 2ms/sample - loss: 0.0299 - val_loss: 0.0376\n",
      "Epoch 12/80\n",
      "95/95 [==============================] - 0s 2ms/sample - loss: 0.0325 - val_loss: 0.0277\n",
      "Epoch 13/80\n",
      "95/95 [==============================] - 0s 2ms/sample - loss: 0.0231 - val_loss: 0.0276\n",
      "Epoch 14/80\n",
      "95/95 [==============================] - 0s 2ms/sample - loss: 0.0269 - val_loss: 0.0259\n",
      "Epoch 15/80\n",
      "95/95 [==============================] - 0s 2ms/sample - loss: 0.0228 - val_loss: 0.0232\n",
      "Epoch 16/80\n",
      "95/95 [==============================] - 0s 2ms/sample - loss: 0.0210 - val_loss: 0.0224\n",
      "Epoch 17/80\n",
      "95/95 [==============================] - 0s 2ms/sample - loss: 0.0215 - val_loss: 0.0202\n",
      "Epoch 18/80\n",
      "95/95 [==============================] - 0s 2ms/sample - loss: 0.0210 - val_loss: 0.0226\n",
      "Epoch 19/80\n",
      "95/95 [==============================] - 0s 2ms/sample - loss: 0.0212 - val_loss: 0.0195\n",
      "Epoch 20/80\n",
      "95/95 [==============================] - 0s 2ms/sample - loss: 0.0196 - val_loss: 0.0209\n",
      "Epoch 21/80\n",
      "95/95 [==============================] - 0s 2ms/sample - loss: 0.0212 - val_loss: 0.0185\n",
      "Epoch 22/80\n",
      "95/95 [==============================] - 0s 2ms/sample - loss: 0.0203 - val_loss: 0.0200\n",
      "Epoch 23/80\n",
      "95/95 [==============================] - 0s 3ms/sample - loss: 0.0200 - val_loss: 0.0182\n",
      "Epoch 24/80\n",
      "95/95 [==============================] - 0s 3ms/sample - loss: 0.0179 - val_loss: 0.0203\n",
      "Epoch 25/80\n",
      "95/95 [==============================] - 0s 2ms/sample - loss: 0.0191 - val_loss: 0.0171\n",
      "Epoch 26/80\n",
      "95/95 [==============================] - 0s 3ms/sample - loss: 0.0193 - val_loss: 0.0187\n",
      "Epoch 27/80\n",
      "95/95 [==============================] - 0s 3ms/sample - loss: 0.0177 - val_loss: 0.0195\n",
      "Epoch 28/80\n",
      "95/95 [==============================] - 0s 3ms/sample - loss: 0.0175 - val_loss: 0.0165\n",
      "Epoch 29/80\n",
      "95/95 [==============================] - 0s 3ms/sample - loss: 0.0184 - val_loss: 0.0161\n",
      "Epoch 30/80\n",
      "95/95 [==============================] - 0s 3ms/sample - loss: 0.0172 - val_loss: 0.0197\n",
      "Epoch 31/80\n",
      "95/95 [==============================] - 0s 3ms/sample - loss: 0.0171 - val_loss: 0.0161\n",
      "Epoch 32/80\n",
      "95/95 [==============================] - 1s 7ms/sample - loss: 0.0169 - val_loss: 0.0171\n",
      "Epoch 33/80\n",
      "95/95 [==============================] - 0s 4ms/sample - loss: 0.0166 - val_loss: 0.0163\n",
      "Epoch 34/80\n",
      "95/95 [==============================] - 0s 4ms/sample - loss: 0.0157 - val_loss: 0.0165\n",
      "Epoch 35/80\n",
      "95/95 [==============================] - 0s 4ms/sample - loss: 0.0157 - val_loss: 0.0162\n",
      "Epoch 36/80\n",
      "95/95 [==============================] - 0s 2ms/sample - loss: 0.0151 - val_loss: 0.0159\n",
      "Epoch 37/80\n",
      "95/95 [==============================] - 0s 4ms/sample - loss: 0.0155 - val_loss: 0.0161\n",
      "Epoch 38/80\n",
      "95/95 [==============================] - 0s 4ms/sample - loss: 0.0159 - val_loss: 0.0160\n",
      "Epoch 39/80\n",
      "95/95 [==============================] - 1s 6ms/sample - loss: 0.0153 - val_loss: 0.0170\n",
      "Epoch 40/80\n",
      "95/95 [==============================] - 0s 3ms/sample - loss: 0.0150 - val_loss: 0.0158\n",
      "Epoch 41/80\n",
      "95/95 [==============================] - 0s 3ms/sample - loss: 0.0162 - val_loss: 0.0161\n",
      "Epoch 42/80\n",
      "95/95 [==============================] - 0s 3ms/sample - loss: 0.0154 - val_loss: 0.0180\n",
      "Epoch 43/80\n",
      "95/95 [==============================] - 0s 4ms/sample - loss: 0.0154 - val_loss: 0.0159\n",
      "Epoch 44/80\n",
      "95/95 [==============================] - 0s 3ms/sample - loss: 0.0155 - val_loss: 0.0162\n",
      "Epoch 45/80\n",
      "95/95 [==============================] - 0s 4ms/sample - loss: 0.0146 - val_loss: 0.0161\n",
      "Epoch 46/80\n",
      "95/95 [==============================] - 0s 4ms/sample - loss: 0.0154 - val_loss: 0.0157\n",
      "Epoch 47/80\n",
      "95/95 [==============================] - 0s 3ms/sample - loss: 0.0161 - val_loss: 0.0159\n",
      "Epoch 48/80\n",
      "95/95 [==============================] - 0s 3ms/sample - loss: 0.0154 - val_loss: 0.0175\n",
      "Epoch 49/80\n",
      "95/95 [==============================] - 0s 5ms/sample - loss: 0.0155 - val_loss: 0.0163\n",
      "Epoch 50/80\n",
      "95/95 [==============================] - 0s 4ms/sample - loss: 0.0164 - val_loss: 0.0181\n",
      "Epoch 51/80\n",
      "95/95 [==============================] - 0s 3ms/sample - loss: 0.0155 - val_loss: 0.0159\n",
      "Epoch 52/80\n",
      "95/95 [==============================] - 0s 3ms/sample - loss: 0.0178 - val_loss: 0.0169\n",
      "Epoch 53/80\n",
      "95/95 [==============================] - 0s 3ms/sample - loss: 0.0156 - val_loss: 0.0168\n",
      "Epoch 54/80\n",
      "95/95 [==============================] - 0s 2ms/sample - loss: 0.0164 - val_loss: 0.0191\n",
      "Epoch 55/80\n",
      "95/95 [==============================] - 0s 2ms/sample - loss: 0.0151 - val_loss: 0.0171\n",
      "Epoch 56/80\n",
      "95/95 [==============================] - 0s 3ms/sample - loss: 0.0153 - val_loss: 0.0166\n",
      "Epoch 57/80\n",
      "95/95 [==============================] - 0s 4ms/sample - loss: 0.0164 - val_loss: 0.0155\n",
      "Epoch 58/80\n",
      "95/95 [==============================] - 0s 3ms/sample - loss: 0.0168 - val_loss: 0.0155\n",
      "Epoch 59/80\n",
      "95/95 [==============================] - 0s 3ms/sample - loss: 0.0149 - val_loss: 0.0194\n",
      "Epoch 60/80\n",
      "95/95 [==============================] - 0s 3ms/sample - loss: 0.0138 - val_loss: 0.0181\n",
      "Epoch 61/80\n",
      "95/95 [==============================] - 0s 3ms/sample - loss: 0.0171 - val_loss: 0.0164\n",
      "Epoch 62/80\n",
      "95/95 [==============================] - 0s 4ms/sample - loss: 0.0164 - val_loss: 0.0158\n",
      "Epoch 63/80\n",
      "95/95 [==============================] - 0s 3ms/sample - loss: 0.0175 - val_loss: 0.0166\n",
      "Epoch 64/80\n",
      "95/95 [==============================] - 0s 2ms/sample - loss: 0.0148 - val_loss: 0.0176\n",
      "Epoch 65/80\n",
      "95/95 [==============================] - 0s 3ms/sample - loss: 0.0142 - val_loss: 0.0158\n",
      "Epoch 66/80\n",
      "95/95 [==============================] - 0s 2ms/sample - loss: 0.0147 - val_loss: 0.0163\n",
      "Epoch 67/80\n",
      "95/95 [==============================] - 0s 2ms/sample - loss: 0.0141 - val_loss: 0.0156\n",
      "Epoch 68/80\n",
      "95/95 [==============================] - 0s 2ms/sample - loss: 0.0138 - val_loss: 0.0155\n",
      "Epoch 69/80\n",
      "95/95 [==============================] - 0s 3ms/sample - loss: 0.0149 - val_loss: 0.0161\n",
      "Epoch 70/80\n",
      "95/95 [==============================] - 0s 2ms/sample - loss: 0.0159 - val_loss: 0.0157\n",
      "Epoch 71/80\n",
      "95/95 [==============================] - 0s 2ms/sample - loss: 0.0172 - val_loss: 0.0181\n",
      "Epoch 72/80\n",
      "95/95 [==============================] - 0s 3ms/sample - loss: 0.0164 - val_loss: 0.0165\n",
      "Epoch 73/80\n",
      "95/95 [==============================] - 0s 3ms/sample - loss: 0.0150 - val_loss: 0.0193\n",
      "Epoch 74/80\n",
      "95/95 [==============================] - 0s 3ms/sample - loss: 0.0147 - val_loss: 0.0166\n",
      "Epoch 75/80\n",
      "95/95 [==============================] - 0s 3ms/sample - loss: 0.0169 - val_loss: 0.0164\n",
      "Epoch 76/80\n",
      "95/95 [==============================] - 0s 3ms/sample - loss: 0.0171 - val_loss: 0.0162\n",
      "Epoch 77/80\n",
      "95/95 [==============================] - 0s 3ms/sample - loss: 0.0178 - val_loss: 0.0165\n",
      "Epoch 78/80\n",
      "95/95 [==============================] - 0s 3ms/sample - loss: 0.0144 - val_loss: 0.0197\n",
      "Epoch 79/80\n",
      "95/95 [==============================] - 0s 3ms/sample - loss: 0.0158 - val_loss: 0.0182\n",
      "Epoch 80/80\n",
      "95/95 [==============================] - 0s 2ms/sample - loss: 0.0154 - val_loss: 0.0168\n"
     ]
    }
   ],
   "source": [
    "N = X.shape[0]\n",
    "\n",
    "r = model.fit( X[:N//2], y[:N//2], validation_data=(X[N//2:], y[N//2:]), epochs=80)"
   ]
  },
  {
   "cell_type": "code",
   "execution_count": 18,
   "metadata": {},
   "outputs": [
    {
     "data": {
      "image/png": "[encoded data removed]",
      "text/plain": [
       "<Figure size 432x288 with 1 Axes>"
      ]
     },
     "metadata": {
      "needs_background": "light"
     },
     "output_type": "display_data"
    }
   ],
   "source": [
    "plt.plot(r.history['loss'], label='Loss')\n",
    "plt.plot(r.history['val_loss'], label='Validation loss')\n",
    "plt.legend()\n",
    "plt.show()"
   ]
  },
  {
   "cell_type": "code",
   "execution_count": 19,
   "metadata": {},
   "outputs": [],
   "source": [
    "y_hat = []\n",
    "\n",
    "X_useful = series[N//2 : N//2+10]\n",
    "\n",
    "for i in range(N//2-10):\n",
    "    x_last = model.predict(X_useful[i:i+10].reshape(1, 10, 1))[0, 0]\n",
    "    y_hat.append(x_last)\n",
    "    X_useful = np.append(X_useful, x_last)"
   ]
  },
  {
   "cell_type": "code",
   "execution_count": 20,
   "metadata": {},
   "outputs": [
    {
     "data": {
      "image/png": "[encoded data removed]",
      "text/plain": [
       "<Figure size 432x288 with 1 Axes>"
      ]
     },
     "metadata": {
      "needs_background": "light"
     },
     "output_type": "display_data"
    }
   ],
   "source": [
    "plt.plot(y_hat, label='Forecasted')\n",
    "plt.plot(y[N//2:], label='Actual')\n",
    "plt.legend()\n",
    "plt.show()"
   ]
  }
 ],
 "metadata": {
  "kernelspec": {
   "display_name": "Python 3",
   "language": "python",
   "name": "python3"
  },
  "language_info": {
   "codemirror_mode": {
    "name": "ipython",
    "version": 3
   },
   "file_extension": ".py",
   "mimetype": "text/x-python",
   "name": "python",
   "nbconvert_exporter": "python",
   "pygments_lexer": "ipython3",
   "version": "3.7.4"
  }
 },
 "nbformat": 4,
 "nbformat_minor": 2
}
