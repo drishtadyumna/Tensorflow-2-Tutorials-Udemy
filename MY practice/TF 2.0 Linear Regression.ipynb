{
 "cells": [
  {
   "cell_type": "code",
   "execution_count": 1,
   "metadata": {},
   "outputs": [],
   "source": [
    "import pandas as pd\n",
    "import numpy as np\n",
    "import matplotlib.pyplot as plt\n",
    "%matplotlib inline"
   ]
  },
  {
   "cell_type": "code",
   "execution_count": 2,
   "metadata": {},
   "outputs": [
    {
     "name": "stdout",
     "output_type": "stream",
     "text": [
      "--2020-05-06 20:56:40--  https://raw.githubusercontent.com/lazyprogrammer/machine_learning_examples/master/tf2.0/moore.csv\n",
      "Resolving raw.githubusercontent.com (raw.githubusercontent.com)... 151.101.152.133, 64:ff9b::9765:9885\n",
      "Connecting to raw.githubusercontent.com (raw.githubusercontent.com)|151.101.152.133|:443... connected.\n",
      "HTTP request sent, awaiting response... 200 OK\n",
      "Length: 2302 (2.2K) [text/plain]\n",
      "Saving to: ‘moore.csv.1’\n",
      "\n",
      "moore.csv.1         100%[===================>]   2.25K  --.-KB/s    in 0.006s  \n",
      "\n",
      "2020-05-06 20:56:40 (368 KB/s) - ‘moore.csv.1’ saved [2302/2302]\n",
      "\n"
     ]
    }
   ],
   "source": [
    "!wget https://raw.githubusercontent.com/lazyprogrammer/machine_learning_examples/master/tf2.0/moore.csv"
   ]
  },
  {
   "cell_type": "code",
   "execution_count": 3,
   "metadata": {},
   "outputs": [
    {
     "name": "stdout",
     "output_type": "stream",
     "text": [
      " moore.csv    'Tensorflow 2.0 Linear Classification.ipynb'\r\n",
      " moore.csv.1  'TF 2.0 Linear Regression.ipynb'\r\n"
     ]
    }
   ],
   "source": [
    "!ls"
   ]
  },
  {
   "cell_type": "code",
   "execution_count": 4,
   "metadata": {},
   "outputs": [],
   "source": [
    "df = pd.read_csv('moore.csv', header=None)"
   ]
  },
  {
   "cell_type": "code",
   "execution_count": 5,
   "metadata": {},
   "outputs": [
    {
     "data": {
      "text/html": [
       "<div>\n",
       "<style scoped>\n",
       "    .dataframe tbody tr th:only-of-type {\n",
       "        vertical-align: middle;\n",
       "    }\n",
       "\n",
       "    .dataframe tbody tr th {\n",
       "        vertical-align: top;\n",
       "    }\n",
       "\n",
       "    .dataframe thead th {\n",
       "        text-align: right;\n",
       "    }\n",
       "</style>\n",
       "<table border=\"1\" class=\"dataframe\">\n",
       "  <thead>\n",
       "    <tr style=\"text-align: right;\">\n",
       "      <th></th>\n",
       "      <th>0</th>\n",
       "      <th>1</th>\n",
       "    </tr>\n",
       "  </thead>\n",
       "  <tbody>\n",
       "    <tr>\n",
       "      <td>0</td>\n",
       "      <td>1971</td>\n",
       "      <td>2300</td>\n",
       "    </tr>\n",
       "    <tr>\n",
       "      <td>1</td>\n",
       "      <td>1972</td>\n",
       "      <td>3500</td>\n",
       "    </tr>\n",
       "    <tr>\n",
       "      <td>2</td>\n",
       "      <td>1973</td>\n",
       "      <td>2500</td>\n",
       "    </tr>\n",
       "    <tr>\n",
       "      <td>3</td>\n",
       "      <td>1973</td>\n",
       "      <td>2500</td>\n",
       "    </tr>\n",
       "    <tr>\n",
       "      <td>4</td>\n",
       "      <td>1974</td>\n",
       "      <td>4100</td>\n",
       "    </tr>\n",
       "  </tbody>\n",
       "</table>\n",
       "</div>"
      ],
      "text/plain": [
       "      0     1\n",
       "0  1971  2300\n",
       "1  1972  3500\n",
       "2  1973  2500\n",
       "3  1973  2500\n",
       "4  1974  4100"
      ]
     },
     "execution_count": 5,
     "metadata": {},
     "output_type": "execute_result"
    }
   ],
   "source": [
    "df.head()"
   ]
  },
  {
   "cell_type": "code",
   "execution_count": 6,
   "metadata": {},
   "outputs": [
    {
     "data": {
      "text/plain": [
       "(162, 2)"
      ]
     },
     "execution_count": 6,
     "metadata": {},
     "output_type": "execute_result"
    }
   ],
   "source": [
    "df.shape"
   ]
  },
  {
   "cell_type": "code",
   "execution_count": 7,
   "metadata": {},
   "outputs": [],
   "source": [
    "data = df.values"
   ]
  },
  {
   "cell_type": "code",
   "execution_count": 8,
   "metadata": {},
   "outputs": [
    {
     "data": {
      "text/plain": [
       "array([[       1971,        2300],\n",
       "       [       1972,        3500],\n",
       "       [       1973,        2500],\n",
       "       [       1973,        2500],\n",
       "       [       1974,        4100],\n",
       "       [       1974,        4500],\n",
       "       [       1974,        8000],\n",
       "       [       1975,        3510],\n",
       "       [       1976,        5000],\n",
       "       [       1976,        8500],\n",
       "       [       1976,        6500],\n",
       "       [       1978,        9000],\n",
       "       [       1978,       29000],\n",
       "       [       1979,       17500],\n",
       "       [       1979,       29000],\n",
       "       [       1979,       68000],\n",
       "       [       1981,       11500],\n",
       "       [       1982,       55000],\n",
       "       [       1982,      134000],\n",
       "       [       1983,       22000],\n",
       "       [       1984,       63000],\n",
       "       [       1984,      190000],\n",
       "       [       1985,      275000],\n",
       "       [       1985,       25000],\n",
       "       [       1985,       16000],\n",
       "       [       1986,      110000],\n",
       "       [       1986,      375000],\n",
       "       [       1986,       30000],\n",
       "       [       1987,      385000],\n",
       "       [       1987,      730000],\n",
       "       [       1987,      273000],\n",
       "       [       1987,      553000],\n",
       "       [       1988,      180000],\n",
       "       [       1988,      250000],\n",
       "       [       1989,      600000],\n",
       "       [       1989,     1000000],\n",
       "       [       1989,     1180235],\n",
       "       [       1989,      310000],\n",
       "       [       1990,     1200000],\n",
       "       [       1991,     1350000],\n",
       "       [       1991,       35000],\n",
       "       [       1992,      600000],\n",
       "       [       1992,      900000],\n",
       "       [       1993,     2800000],\n",
       "       [       1993,     3100000],\n",
       "       [       1994,      578977],\n",
       "       [       1994,     2500000],\n",
       "       [       1995,     2500000],\n",
       "       [       1999,      111000],\n",
       "       [       1995,     5500000],\n",
       "       [       1996,     4300000],\n",
       "       [       1997,    10000000],\n",
       "       [       1997,     7500000],\n",
       "       [       1997,     8800000],\n",
       "       [       1998,     7500000],\n",
       "       [       1999,     9500000],\n",
       "       [       1999,    13500000],\n",
       "       [       2000,    21000000],\n",
       "       [       2000,    21000000],\n",
       "       [       1999,    27400000],\n",
       "       [       1999,    21300000],\n",
       "       [       1999,    22000000],\n",
       "       [       2000,    42000000],\n",
       "       [       2001,   191000000],\n",
       "       [       2001,    45000000],\n",
       "       [       2002,    55000000],\n",
       "       [       2004,   112000000],\n",
       "       [       2004,   400000000],\n",
       "       [       2005,   169000000],\n",
       "       [       2006,   184000000],\n",
       "       [       2005,   228000000],\n",
       "       [       2006,   362000000],\n",
       "       [       2007,   540000000],\n",
       "       [       2008,    47000000],\n",
       "       [       2003,    54300000],\n",
       "       [       2003,   105900000],\n",
       "       [       2002,   220000000],\n",
       "       [       2005,   165000000],\n",
       "       [       2005,   250000000],\n",
       "       [       2006,   291000000],\n",
       "       [       2007,   169000000],\n",
       "       [       2003,   410000000],\n",
       "       [       2008,   600000000],\n",
       "       [       2009,   760000000],\n",
       "       [       2011,  1870000000],\n",
       "       [       2012,   432000000],\n",
       "       [       2007,   463000000],\n",
       "       [       2007,    26000000],\n",
       "       [       2008,   230000000],\n",
       "       [       2004,   592000000],\n",
       "       [       2007,   411000000],\n",
       "       [       2008,   731000000],\n",
       "       [       2008,   758000000],\n",
       "       [       2007,   789000000],\n",
       "       [       2009,   904000000],\n",
       "       [       2010,  1000000000],\n",
       "       [       2012,  2990000000],\n",
       "       [       2013,  1000000000],\n",
       "       [       2011,  1160000000],\n",
       "       [       2010,  1170000000],\n",
       "       [       2010,  1200000000],\n",
       "       [       2012,  1200000000],\n",
       "       [       2012,  1303000000],\n",
       "       [       2010,  1400000000],\n",
       "       [       2012,  1400000000],\n",
       "       [       2014,  1400000000],\n",
       "       [       2006,  1700000000],\n",
       "       [       2015,  1750000000],\n",
       "       [       2013,  1860000000],\n",
       "       [       2015,  1900000000],\n",
       "       [       2008,  1900000000],\n",
       "       [       2010,  2000000000],\n",
       "       [       2014,  2000000000],\n",
       "       [       2015,  2000000000],\n",
       "       [       2015,  3000000000],\n",
       "       [       2012,  2100000000],\n",
       "       [       2011,  2270000000],\n",
       "       [       2010,  2300000000],\n",
       "       [       2014,  2600000000],\n",
       "       [       2011,  2600000000],\n",
       "       [       2012,  2750000000],\n",
       "       [       2014,  3000000000],\n",
       "       [       2016,  3000000000],\n",
       "       [       2017,  5300000000],\n",
       "       [       2017,  5300000000],\n",
       "       [       2018,  8500000000],\n",
       "       [       2012,  3100000000],\n",
       "       [       2016,  3200000000],\n",
       "       [       2016,  3300000000],\n",
       "       [       2015,  3990000000],\n",
       "       [       2013,  4200000000],\n",
       "       [       2017,  4300000000],\n",
       "       [       2014,  4310000000],\n",
       "       [       2017,  4800000000],\n",
       "       [       2017,  4800000000],\n",
       "       [       2017,  4800000000],\n",
       "       [       2012,  5000000000],\n",
       "       [       2013,  5000000000],\n",
       "       [       2014,  5560000000],\n",
       "       [       2017,  6100000000],\n",
       "       [       2018,  6900000000],\n",
       "       [       2016,  4000000000],\n",
       "       [       2018,  6900000000],\n",
       "       [       2017,  5500000000],\n",
       "       [       2018,  5500000000],\n",
       "       [       2017,  7000000000],\n",
       "       [       2015,  7100000000],\n",
       "       [       2017,  8000000000],\n",
       "       [       2016,  7200000000],\n",
       "       [       2017,  8000000000],\n",
       "       [       2016,  8000000000],\n",
       "       [       2017,  9700000000],\n",
       "       [       2017,   250000000],\n",
       "       [       2015, 10000000000],\n",
       "       [       2017,  5450000000],\n",
       "       [       2018, 10000000000],\n",
       "       [       2017,  4300000000],\n",
       "       [       2017, 18000000000],\n",
       "       [       2017, 19200000000],\n",
       "       [       2018,  8876000000],\n",
       "       [       2018, 23600000000],\n",
       "       [       2018,  9000000000]])"
      ]
     },
     "execution_count": 8,
     "metadata": {},
     "output_type": "execute_result"
    }
   ],
   "source": [
    "data"
   ]
  },
  {
   "cell_type": "code",
   "execution_count": 9,
   "metadata": {},
   "outputs": [],
   "source": [
    "X = data[:, 0]"
   ]
  },
  {
   "cell_type": "code",
   "execution_count": 10,
   "metadata": {},
   "outputs": [
    {
     "data": {
      "text/plain": [
       "(162,)"
      ]
     },
     "execution_count": 10,
     "metadata": {},
     "output_type": "execute_result"
    }
   ],
   "source": [
    "X.shape"
   ]
  },
  {
   "cell_type": "code",
   "execution_count": 11,
   "metadata": {},
   "outputs": [],
   "source": [
    "X = X.reshape(-1,1)"
   ]
  },
  {
   "cell_type": "code",
   "execution_count": 12,
   "metadata": {},
   "outputs": [],
   "source": [
    "y = data[:, 1]"
   ]
  },
  {
   "cell_type": "code",
   "execution_count": 13,
   "metadata": {},
   "outputs": [
    {
     "data": {
      "image/png": "[encoded data removed]",
      "text/plain": [
       "<Figure size 432x288 with 1 Axes>"
      ]
     },
     "metadata": {
      "needs_background": "light"
     },
     "output_type": "display_data"
    }
   ],
   "source": [
    "plt.scatter(X, y)\n",
    "plt.show()"
   ]
  },
  {
   "cell_type": "code",
   "execution_count": 14,
   "metadata": {},
   "outputs": [],
   "source": [
    "y = np.log(y)"
   ]
  },
  {
   "cell_type": "code",
   "execution_count": 15,
   "metadata": {},
   "outputs": [
    {
     "data": {
      "image/png": "[encoded data removed]",
      "text/plain": [
       "<Figure size 432x288 with 1 Axes>"
      ]
     },
     "metadata": {
      "needs_background": "light"
     },
     "output_type": "display_data"
    }
   ],
   "source": [
    "plt.scatter(X, y)\n",
    "plt.show()"
   ]
  },
  {
   "cell_type": "code",
   "execution_count": 16,
   "metadata": {},
   "outputs": [],
   "source": [
    "X = X - X.mean()"
   ]
  },
  {
   "cell_type": "code",
   "execution_count": 17,
   "metadata": {},
   "outputs": [
    {
     "data": {
      "text/plain": [
       "array([[-31.19753086],\n",
       "       [-30.19753086],\n",
       "       [-29.19753086],\n",
       "       [-29.19753086],\n",
       "       [-28.19753086],\n",
       "       [-28.19753086],\n",
       "       [-28.19753086],\n",
       "       [-27.19753086],\n",
       "       [-26.19753086],\n",
       "       [-26.19753086],\n",
       "       [-26.19753086],\n",
       "       [-24.19753086],\n",
       "       [-24.19753086],\n",
       "       [-23.19753086],\n",
       "       [-23.19753086],\n",
       "       [-23.19753086],\n",
       "       [-21.19753086],\n",
       "       [-20.19753086],\n",
       "       [-20.19753086],\n",
       "       [-19.19753086],\n",
       "       [-18.19753086],\n",
       "       [-18.19753086],\n",
       "       [-17.19753086],\n",
       "       [-17.19753086],\n",
       "       [-17.19753086],\n",
       "       [-16.19753086],\n",
       "       [-16.19753086],\n",
       "       [-16.19753086],\n",
       "       [-15.19753086],\n",
       "       [-15.19753086],\n",
       "       [-15.19753086],\n",
       "       [-15.19753086],\n",
       "       [-14.19753086],\n",
       "       [-14.19753086],\n",
       "       [-13.19753086],\n",
       "       [-13.19753086],\n",
       "       [-13.19753086],\n",
       "       [-13.19753086],\n",
       "       [-12.19753086],\n",
       "       [-11.19753086],\n",
       "       [-11.19753086],\n",
       "       [-10.19753086],\n",
       "       [-10.19753086],\n",
       "       [ -9.19753086],\n",
       "       [ -9.19753086],\n",
       "       [ -8.19753086],\n",
       "       [ -8.19753086],\n",
       "       [ -7.19753086],\n",
       "       [ -3.19753086],\n",
       "       [ -7.19753086],\n",
       "       [ -6.19753086],\n",
       "       [ -5.19753086],\n",
       "       [ -5.19753086],\n",
       "       [ -5.19753086],\n",
       "       [ -4.19753086],\n",
       "       [ -3.19753086],\n",
       "       [ -3.19753086],\n",
       "       [ -2.19753086],\n",
       "       [ -2.19753086],\n",
       "       [ -3.19753086],\n",
       "       [ -3.19753086],\n",
       "       [ -3.19753086],\n",
       "       [ -2.19753086],\n",
       "       [ -1.19753086],\n",
       "       [ -1.19753086],\n",
       "       [ -0.19753086],\n",
       "       [  1.80246914],\n",
       "       [  1.80246914],\n",
       "       [  2.80246914],\n",
       "       [  3.80246914],\n",
       "       [  2.80246914],\n",
       "       [  3.80246914],\n",
       "       [  4.80246914],\n",
       "       [  5.80246914],\n",
       "       [  0.80246914],\n",
       "       [  0.80246914],\n",
       "       [ -0.19753086],\n",
       "       [  2.80246914],\n",
       "       [  2.80246914],\n",
       "       [  3.80246914],\n",
       "       [  4.80246914],\n",
       "       [  0.80246914],\n",
       "       [  5.80246914],\n",
       "       [  6.80246914],\n",
       "       [  8.80246914],\n",
       "       [  9.80246914],\n",
       "       [  4.80246914],\n",
       "       [  4.80246914],\n",
       "       [  5.80246914],\n",
       "       [  1.80246914],\n",
       "       [  4.80246914],\n",
       "       [  5.80246914],\n",
       "       [  5.80246914],\n",
       "       [  4.80246914],\n",
       "       [  6.80246914],\n",
       "       [  7.80246914],\n",
       "       [  9.80246914],\n",
       "       [ 10.80246914],\n",
       "       [  8.80246914],\n",
       "       [  7.80246914],\n",
       "       [  7.80246914],\n",
       "       [  9.80246914],\n",
       "       [  9.80246914],\n",
       "       [  7.80246914],\n",
       "       [  9.80246914],\n",
       "       [ 11.80246914],\n",
       "       [  3.80246914],\n",
       "       [ 12.80246914],\n",
       "       [ 10.80246914],\n",
       "       [ 12.80246914],\n",
       "       [  5.80246914],\n",
       "       [  7.80246914],\n",
       "       [ 11.80246914],\n",
       "       [ 12.80246914],\n",
       "       [ 12.80246914],\n",
       "       [  9.80246914],\n",
       "       [  8.80246914],\n",
       "       [  7.80246914],\n",
       "       [ 11.80246914],\n",
       "       [  8.80246914],\n",
       "       [  9.80246914],\n",
       "       [ 11.80246914],\n",
       "       [ 13.80246914],\n",
       "       [ 14.80246914],\n",
       "       [ 14.80246914],\n",
       "       [ 15.80246914],\n",
       "       [  9.80246914],\n",
       "       [ 13.80246914],\n",
       "       [ 13.80246914],\n",
       "       [ 12.80246914],\n",
       "       [ 10.80246914],\n",
       "       [ 14.80246914],\n",
       "       [ 11.80246914],\n",
       "       [ 14.80246914],\n",
       "       [ 14.80246914],\n",
       "       [ 14.80246914],\n",
       "       [  9.80246914],\n",
       "       [ 10.80246914],\n",
       "       [ 11.80246914],\n",
       "       [ 14.80246914],\n",
       "       [ 15.80246914],\n",
       "       [ 13.80246914],\n",
       "       [ 15.80246914],\n",
       "       [ 14.80246914],\n",
       "       [ 15.80246914],\n",
       "       [ 14.80246914],\n",
       "       [ 12.80246914],\n",
       "       [ 14.80246914],\n",
       "       [ 13.80246914],\n",
       "       [ 14.80246914],\n",
       "       [ 13.80246914],\n",
       "       [ 14.80246914],\n",
       "       [ 14.80246914],\n",
       "       [ 12.80246914],\n",
       "       [ 14.80246914],\n",
       "       [ 15.80246914],\n",
       "       [ 14.80246914],\n",
       "       [ 14.80246914],\n",
       "       [ 14.80246914],\n",
       "       [ 15.80246914],\n",
       "       [ 15.80246914],\n",
       "       [ 15.80246914]])"
      ]
     },
     "execution_count": 17,
     "metadata": {},
     "output_type": "execute_result"
    }
   ],
   "source": [
    "X"
   ]
  },
  {
   "cell_type": "code",
   "execution_count": 18,
   "metadata": {},
   "outputs": [],
   "source": [
    "import tensorflow as tf"
   ]
  },
  {
   "cell_type": "code",
   "execution_count": 19,
   "metadata": {},
   "outputs": [],
   "source": [
    "model = tf.keras.models.Sequential()\n",
    "model.add(tf.keras.layers.Dense(1, input_shape=(1,)))"
   ]
  },
  {
   "cell_type": "code",
   "execution_count": 20,
   "metadata": {},
   "outputs": [],
   "source": [
    "model.compile(optimizer=tf.keras.optimizers.SGD(0.001, 0.9), loss='mse')"
   ]
  },
  {
   "cell_type": "code",
   "execution_count": 21,
   "metadata": {},
   "outputs": [],
   "source": [
    "def schedule(epoch, lr):               #current lr\n",
    "    if epoch>50:\n",
    "        return 0.0001                 #returns lr for next epoch\n",
    "    return 0.001"
   ]
  },
  {
   "cell_type": "code",
   "execution_count": 22,
   "metadata": {},
   "outputs": [],
   "source": [
    "scheduler = tf.keras.callbacks.LearningRateScheduler(schedule)"
   ]
  },
  {
   "cell_type": "code",
   "execution_count": 23,
   "metadata": {},
   "outputs": [
    {
     "name": "stdout",
     "output_type": "stream",
     "text": [
      "Train on 162 samples\n",
      "Epoch 1/200\n",
      "162/162 [==============================] - 2s 15ms/sample - loss: 482.5626\n",
      "Epoch 2/200\n",
      "162/162 [==============================] - 0s 173us/sample - loss: 507.5685\n",
      "Epoch 3/200\n",
      "162/162 [==============================] - 0s 173us/sample - loss: 341.8618\n",
      "Epoch 4/200\n",
      "162/162 [==============================] - 0s 178us/sample - loss: 642.0038\n",
      "Epoch 5/200\n",
      "162/162 [==============================] - 0s 198us/sample - loss: 575.4202\n",
      "Epoch 6/200\n",
      "162/162 [==============================] - 0s 158us/sample - loss: 331.5046\n",
      "Epoch 7/200\n",
      "162/162 [==============================] - 0s 152us/sample - loss: 292.9505\n",
      "Epoch 8/200\n",
      "162/162 [==============================] - 0s 191us/sample - loss: 216.8841\n",
      "Epoch 9/200\n",
      "162/162 [==============================] - 0s 211us/sample - loss: 175.6420\n",
      "Epoch 10/200\n",
      "162/162 [==============================] - 0s 195us/sample - loss: 86.7383\n",
      "Epoch 11/200\n",
      "162/162 [==============================] - 0s 192us/sample - loss: 35.7741\n",
      "Epoch 12/200\n",
      "162/162 [==============================] - 0s 221us/sample - loss: 34.5511\n",
      "Epoch 13/200\n",
      "162/162 [==============================] - 0s 192us/sample - loss: 32.8724\n",
      "Epoch 14/200\n",
      "162/162 [==============================] - 0s 159us/sample - loss: 23.1083\n",
      "Epoch 15/200\n",
      "162/162 [==============================] - 0s 146us/sample - loss: 8.4343\n",
      "Epoch 16/200\n",
      "162/162 [==============================] - 0s 149us/sample - loss: 8.0291\n",
      "Epoch 17/200\n",
      "162/162 [==============================] - 0s 159us/sample - loss: 5.4367\n",
      "Epoch 18/200\n",
      "162/162 [==============================] - 0s 155us/sample - loss: 3.4379\n",
      "Epoch 19/200\n",
      "162/162 [==============================] - 0s 157us/sample - loss: 2.8828\n",
      "Epoch 20/200\n",
      "162/162 [==============================] - 0s 148us/sample - loss: 2.5423\n",
      "Epoch 21/200\n",
      "162/162 [==============================] - 0s 172us/sample - loss: 2.7463\n",
      "Epoch 22/200\n",
      "162/162 [==============================] - 0s 186us/sample - loss: 2.3139\n",
      "Epoch 23/200\n",
      "162/162 [==============================] - 0s 151us/sample - loss: 1.6926\n",
      "Epoch 24/200\n",
      "162/162 [==============================] - 0s 148us/sample - loss: 1.3563\n",
      "Epoch 25/200\n",
      "162/162 [==============================] - 0s 167us/sample - loss: 1.1611\n",
      "Epoch 26/200\n",
      "162/162 [==============================] - 0s 141us/sample - loss: 1.1809\n",
      "Epoch 27/200\n",
      "162/162 [==============================] - 0s 173us/sample - loss: 1.5196\n",
      "Epoch 28/200\n",
      "162/162 [==============================] - 0s 155us/sample - loss: 1.6160\n",
      "Epoch 29/200\n",
      "162/162 [==============================] - 0s 172us/sample - loss: 1.0827\n",
      "Epoch 30/200\n",
      "162/162 [==============================] - 0s 146us/sample - loss: 0.9815\n",
      "Epoch 31/200\n",
      "162/162 [==============================] - 0s 151us/sample - loss: 1.4515\n",
      "Epoch 32/200\n",
      "162/162 [==============================] - 0s 153us/sample - loss: 0.9961\n",
      "Epoch 33/200\n",
      "162/162 [==============================] - 0s 184us/sample - loss: 1.0178\n",
      "Epoch 34/200\n",
      "162/162 [==============================] - 0s 158us/sample - loss: 0.9463\n",
      "Epoch 35/200\n",
      "162/162 [==============================] - 0s 201us/sample - loss: 0.9819\n",
      "Epoch 36/200\n",
      "162/162 [==============================] - 0s 220us/sample - loss: 0.8847\n",
      "Epoch 37/200\n",
      "162/162 [==============================] - 0s 218us/sample - loss: 0.8866\n",
      "Epoch 38/200\n",
      "162/162 [==============================] - 0s 180us/sample - loss: 1.0103\n",
      "Epoch 39/200\n",
      "162/162 [==============================] - 0s 169us/sample - loss: 1.0444\n",
      "Epoch 40/200\n",
      "162/162 [==============================] - 0s 182us/sample - loss: 1.2062\n",
      "Epoch 41/200\n",
      "162/162 [==============================] - 0s 187us/sample - loss: 1.0642\n",
      "Epoch 42/200\n",
      "162/162 [==============================] - 0s 202us/sample - loss: 0.9198\n",
      "Epoch 43/200\n",
      "162/162 [==============================] - 0s 172us/sample - loss: 0.8964\n",
      "Epoch 44/200\n",
      "162/162 [==============================] - 0s 164us/sample - loss: 0.9785\n",
      "Epoch 45/200\n",
      "162/162 [==============================] - 0s 212us/sample - loss: 1.0010\n",
      "Epoch 46/200\n",
      "162/162 [==============================] - 0s 186us/sample - loss: 0.9575\n",
      "Epoch 47/200\n",
      "162/162 [==============================] - 0s 169us/sample - loss: 0.8773\n",
      "Epoch 48/200\n",
      "162/162 [==============================] - 0s 169us/sample - loss: 0.9266\n",
      "Epoch 49/200\n",
      "162/162 [==============================] - 0s 149us/sample - loss: 0.9054\n",
      "Epoch 50/200\n",
      "162/162 [==============================] - 0s 160us/sample - loss: 0.9943\n",
      "Epoch 51/200\n",
      "162/162 [==============================] - 0s 157us/sample - loss: 1.2261\n",
      "Epoch 52/200\n",
      "162/162 [==============================] - 0s 149us/sample - loss: 0.9050\n",
      "Epoch 53/200\n",
      "162/162 [==============================] - 0s 190us/sample - loss: 0.9576\n",
      "Epoch 54/200\n",
      "162/162 [==============================] - 0s 153us/sample - loss: 0.9660\n",
      "Epoch 55/200\n",
      "162/162 [==============================] - 0s 181us/sample - loss: 0.8907\n",
      "Epoch 56/200\n",
      "162/162 [==============================] - 0s 191us/sample - loss: 0.9053\n",
      "Epoch 57/200\n",
      "162/162 [==============================] - 0s 233us/sample - loss: 0.8752\n",
      "Epoch 58/200\n",
      "162/162 [==============================] - 0s 226us/sample - loss: 0.8717\n",
      "Epoch 59/200\n",
      "162/162 [==============================] - 0s 207us/sample - loss: 0.8792\n",
      "Epoch 60/200\n",
      "162/162 [==============================] - 0s 186us/sample - loss: 0.8742\n",
      "Epoch 61/200\n",
      "162/162 [==============================] - 0s 184us/sample - loss: 0.8844\n",
      "Epoch 62/200\n",
      "162/162 [==============================] - 0s 183us/sample - loss: 0.8982\n",
      "Epoch 63/200\n",
      "162/162 [==============================] - 0s 177us/sample - loss: 0.9270\n",
      "Epoch 64/200\n",
      "162/162 [==============================] - 0s 171us/sample - loss: 0.8822\n",
      "Epoch 65/200\n",
      "162/162 [==============================] - 0s 237us/sample - loss: 0.8826\n",
      "Epoch 66/200\n",
      "162/162 [==============================] - 0s 217us/sample - loss: 0.8813\n",
      "Epoch 67/200\n",
      "162/162 [==============================] - 0s 178us/sample - loss: 0.8662\n",
      "Epoch 68/200\n",
      "162/162 [==============================] - 0s 218us/sample - loss: 0.8771\n",
      "Epoch 69/200\n",
      "162/162 [==============================] - 0s 241us/sample - loss: 0.8795\n",
      "Epoch 70/200\n",
      "162/162 [==============================] - 0s 232us/sample - loss: 0.8727\n",
      "Epoch 71/200\n",
      "162/162 [==============================] - 0s 209us/sample - loss: 0.8993\n",
      "Epoch 72/200\n",
      "162/162 [==============================] - 0s 211us/sample - loss: 0.9182\n",
      "Epoch 73/200\n",
      "162/162 [==============================] - 0s 215us/sample - loss: 0.8739\n",
      "Epoch 74/200\n",
      "162/162 [==============================] - 0s 211us/sample - loss: 0.8856\n",
      "Epoch 75/200\n",
      "162/162 [==============================] - 0s 198us/sample - loss: 0.8896\n",
      "Epoch 76/200\n",
      "162/162 [==============================] - 0s 225us/sample - loss: 0.8668\n",
      "Epoch 77/200\n",
      "162/162 [==============================] - 0s 201us/sample - loss: 0.8793\n",
      "Epoch 78/200\n",
      "162/162 [==============================] - 0s 200us/sample - loss: 0.8739\n",
      "Epoch 79/200\n",
      "162/162 [==============================] - 0s 225us/sample - loss: 0.8909\n",
      "Epoch 80/200\n",
      "162/162 [==============================] - 0s 201us/sample - loss: 0.8871\n",
      "Epoch 81/200\n",
      "162/162 [==============================] - 0s 187us/sample - loss: 0.8677\n",
      "Epoch 82/200\n",
      "162/162 [==============================] - 0s 207us/sample - loss: 0.8892\n",
      "Epoch 83/200\n",
      "162/162 [==============================] - 0s 213us/sample - loss: 0.9541\n",
      "Epoch 84/200\n",
      "162/162 [==============================] - 0s 180us/sample - loss: 0.9294\n",
      "Epoch 85/200\n",
      "162/162 [==============================] - 0s 246us/sample - loss: 0.8782\n",
      "Epoch 86/200\n",
      "162/162 [==============================] - 0s 191us/sample - loss: 0.8974\n",
      "Epoch 87/200\n",
      "162/162 [==============================] - 0s 188us/sample - loss: 0.8789\n",
      "Epoch 88/200\n",
      "162/162 [==============================] - 0s 236us/sample - loss: 0.8695\n",
      "Epoch 89/200\n",
      "162/162 [==============================] - 0s 207us/sample - loss: 0.8846\n",
      "Epoch 90/200\n",
      "162/162 [==============================] - 0s 215us/sample - loss: 0.8776\n",
      "Epoch 91/200\n",
      "162/162 [==============================] - 0s 231us/sample - loss: 0.8795\n",
      "Epoch 92/200\n",
      "162/162 [==============================] - 0s 225us/sample - loss: 0.8754\n",
      "Epoch 93/200\n",
      "162/162 [==============================] - 0s 230us/sample - loss: 0.8764\n",
      "Epoch 94/200\n"
     ]
    },
    {
     "name": "stdout",
     "output_type": "stream",
     "text": [
      "162/162 [==============================] - 0s 220us/sample - loss: 0.8688\n",
      "Epoch 95/200\n",
      "162/162 [==============================] - 0s 252us/sample - loss: 0.8744\n",
      "Epoch 96/200\n",
      "162/162 [==============================] - 0s 203us/sample - loss: 0.8699\n",
      "Epoch 97/200\n",
      "162/162 [==============================] - 0s 187us/sample - loss: 0.8798\n",
      "Epoch 98/200\n",
      "162/162 [==============================] - 0s 217us/sample - loss: 0.8773\n",
      "Epoch 99/200\n",
      "162/162 [==============================] - 0s 205us/sample - loss: 0.8774\n",
      "Epoch 100/200\n",
      "162/162 [==============================] - 0s 215us/sample - loss: 0.8809\n",
      "Epoch 101/200\n",
      "162/162 [==============================] - 0s 240us/sample - loss: 0.8695\n",
      "Epoch 102/200\n",
      "162/162 [==============================] - 0s 198us/sample - loss: 0.8831\n",
      "Epoch 103/200\n",
      "162/162 [==============================] - 0s 185us/sample - loss: 0.8766\n",
      "Epoch 104/200\n",
      "162/162 [==============================] - 0s 208us/sample - loss: 0.8706\n",
      "Epoch 105/200\n",
      "162/162 [==============================] - 0s 184us/sample - loss: 0.8732\n",
      "Epoch 106/200\n",
      "162/162 [==============================] - 0s 216us/sample - loss: 0.8725\n",
      "Epoch 107/200\n",
      "162/162 [==============================] - 0s 205us/sample - loss: 0.8732\n",
      "Epoch 108/200\n",
      "162/162 [==============================] - 0s 209us/sample - loss: 0.8728\n",
      "Epoch 109/200\n",
      "162/162 [==============================] - 0s 251us/sample - loss: 0.8716\n",
      "Epoch 110/200\n",
      "162/162 [==============================] - 0s 204us/sample - loss: 0.8733\n",
      "Epoch 111/200\n",
      "162/162 [==============================] - 0s 189us/sample - loss: 0.8715\n",
      "Epoch 112/200\n",
      "162/162 [==============================] - 0s 214us/sample - loss: 0.8724\n",
      "Epoch 113/200\n",
      "162/162 [==============================] - 0s 178us/sample - loss: 0.8738\n",
      "Epoch 114/200\n",
      "162/162 [==============================] - 0s 206us/sample - loss: 0.8723\n",
      "Epoch 115/200\n",
      "162/162 [==============================] - 0s 191us/sample - loss: 0.9075\n",
      "Epoch 116/200\n",
      "162/162 [==============================] - 0s 181us/sample - loss: 0.9850\n",
      "Epoch 117/200\n",
      "162/162 [==============================] - 0s 198us/sample - loss: 0.8906\n",
      "Epoch 118/200\n",
      "162/162 [==============================] - 0s 194us/sample - loss: 0.8723\n",
      "Epoch 119/200\n",
      "162/162 [==============================] - 0s 201us/sample - loss: 0.9027\n",
      "Epoch 120/200\n",
      "162/162 [==============================] - 0s 191us/sample - loss: 0.8777\n",
      "Epoch 121/200\n",
      "162/162 [==============================] - 0s 189us/sample - loss: 0.8720\n",
      "Epoch 122/200\n",
      "162/162 [==============================] - 0s 215us/sample - loss: 0.8728\n",
      "Epoch 123/200\n",
      "162/162 [==============================] - 0s 186us/sample - loss: 0.8796\n",
      "Epoch 124/200\n",
      "162/162 [==============================] - 0s 183us/sample - loss: 0.8859\n",
      "Epoch 125/200\n",
      "162/162 [==============================] - 0s 171us/sample - loss: 0.8691\n",
      "Epoch 126/200\n",
      "162/162 [==============================] - 0s 217us/sample - loss: 0.8747\n",
      "Epoch 127/200\n",
      "162/162 [==============================] - 0s 174us/sample - loss: 0.8726\n",
      "Epoch 128/200\n",
      "162/162 [==============================] - 0s 222us/sample - loss: 0.8722\n",
      "Epoch 129/200\n",
      "162/162 [==============================] - 0s 200us/sample - loss: 0.8683\n",
      "Epoch 130/200\n",
      "162/162 [==============================] - 0s 173us/sample - loss: 0.8783\n",
      "Epoch 131/200\n",
      "162/162 [==============================] - 0s 194us/sample - loss: 0.8691\n",
      "Epoch 132/200\n",
      "162/162 [==============================] - 0s 185us/sample - loss: 0.8720\n",
      "Epoch 133/200\n",
      "162/162 [==============================] - 0s 165us/sample - loss: 0.8724\n",
      "Epoch 134/200\n",
      "162/162 [==============================] - 0s 193us/sample - loss: 0.8749\n",
      "Epoch 135/200\n",
      "162/162 [==============================] - 0s 202us/sample - loss: 0.8697\n",
      "Epoch 136/200\n",
      "162/162 [==============================] - 0s 196us/sample - loss: 0.8712\n",
      "Epoch 137/200\n",
      "162/162 [==============================] - 0s 202us/sample - loss: 0.8783\n",
      "Epoch 138/200\n",
      "162/162 [==============================] - 0s 187us/sample - loss: 0.8721\n",
      "Epoch 139/200\n",
      "162/162 [==============================] - 0s 187us/sample - loss: 0.8740\n",
      "Epoch 140/200\n",
      "162/162 [==============================] - 0s 173us/sample - loss: 0.8851\n",
      "Epoch 141/200\n",
      "162/162 [==============================] - 0s 186us/sample - loss: 0.8780\n",
      "Epoch 142/200\n",
      "162/162 [==============================] - 0s 177us/sample - loss: 0.8735\n",
      "Epoch 143/200\n",
      "162/162 [==============================] - 0s 197us/sample - loss: 0.8719\n",
      "Epoch 144/200\n",
      "162/162 [==============================] - 0s 195us/sample - loss: 0.8813\n",
      "Epoch 145/200\n",
      "162/162 [==============================] - 0s 204us/sample - loss: 0.8913\n",
      "Epoch 146/200\n",
      "162/162 [==============================] - 0s 208us/sample - loss: 0.8732\n",
      "Epoch 147/200\n",
      "162/162 [==============================] - 0s 188us/sample - loss: 0.8827\n",
      "Epoch 148/200\n",
      "162/162 [==============================] - 0s 176us/sample - loss: 0.8894\n",
      "Epoch 149/200\n",
      "162/162 [==============================] - 0s 198us/sample - loss: 0.8696\n",
      "Epoch 150/200\n",
      "162/162 [==============================] - 0s 211us/sample - loss: 0.8718\n",
      "Epoch 151/200\n",
      "162/162 [==============================] - 0s 189us/sample - loss: 0.8721\n",
      "Epoch 152/200\n",
      "162/162 [==============================] - 0s 183us/sample - loss: 0.8734\n",
      "Epoch 153/200\n",
      "162/162 [==============================] - 0s 165us/sample - loss: 0.8824\n",
      "Epoch 154/200\n",
      "162/162 [==============================] - 0s 202us/sample - loss: 0.8776\n",
      "Epoch 155/200\n",
      "162/162 [==============================] - 0s 166us/sample - loss: 0.8736\n",
      "Epoch 156/200\n",
      "162/162 [==============================] - 0s 187us/sample - loss: 0.8774\n",
      "Epoch 157/200\n",
      "162/162 [==============================] - 0s 209us/sample - loss: 0.8783\n",
      "Epoch 158/200\n",
      "162/162 [==============================] - 0s 212us/sample - loss: 0.8705\n",
      "Epoch 159/200\n",
      "162/162 [==============================] - 0s 193us/sample - loss: 0.8727\n",
      "Epoch 160/200\n",
      "162/162 [==============================] - 0s 184us/sample - loss: 0.8776\n",
      "Epoch 161/200\n",
      "162/162 [==============================] - 0s 225us/sample - loss: 0.8715\n",
      "Epoch 162/200\n",
      "162/162 [==============================] - 0s 197us/sample - loss: 0.8734\n",
      "Epoch 163/200\n",
      "162/162 [==============================] - 0s 207us/sample - loss: 0.8698\n",
      "Epoch 164/200\n",
      "162/162 [==============================] - 0s 180us/sample - loss: 0.8805\n",
      "Epoch 165/200\n",
      "162/162 [==============================] - 0s 182us/sample - loss: 0.8856\n",
      "Epoch 166/200\n",
      "162/162 [==============================] - 0s 185us/sample - loss: 0.8937\n",
      "Epoch 167/200\n",
      "162/162 [==============================] - 0s 199us/sample - loss: 0.8816\n",
      "Epoch 168/200\n",
      "162/162 [==============================] - 0s 183us/sample - loss: 0.8836\n",
      "Epoch 169/200\n",
      "162/162 [==============================] - 0s 190us/sample - loss: 0.8820\n",
      "Epoch 170/200\n",
      "162/162 [==============================] - 0s 209us/sample - loss: 0.8774\n",
      "Epoch 171/200\n",
      "162/162 [==============================] - 0s 175us/sample - loss: 0.8935\n",
      "Epoch 172/200\n",
      "162/162 [==============================] - 0s 194us/sample - loss: 0.8963\n",
      "Epoch 173/200\n",
      "162/162 [==============================] - 0s 183us/sample - loss: 0.8866\n",
      "Epoch 174/200\n",
      "162/162 [==============================] - 0s 174us/sample - loss: 0.8846\n",
      "Epoch 175/200\n",
      "162/162 [==============================] - 0s 180us/sample - loss: 0.8745\n",
      "Epoch 176/200\n",
      "162/162 [==============================] - 0s 173us/sample - loss: 0.8719\n",
      "Epoch 177/200\n",
      "162/162 [==============================] - 0s 204us/sample - loss: 0.8732\n",
      "Epoch 178/200\n",
      "162/162 [==============================] - 0s 186us/sample - loss: 0.8928\n",
      "Epoch 179/200\n",
      "162/162 [==============================] - 0s 186us/sample - loss: 0.8895\n",
      "Epoch 180/200\n",
      "162/162 [==============================] - 0s 199us/sample - loss: 0.8735\n",
      "Epoch 181/200\n",
      "162/162 [==============================] - 0s 156us/sample - loss: 0.8715\n",
      "Epoch 182/200\n",
      "162/162 [==============================] - 0s 182us/sample - loss: 0.8851\n",
      "Epoch 183/200\n",
      "162/162 [==============================] - 0s 164us/sample - loss: 0.8790\n",
      "Epoch 184/200\n",
      "162/162 [==============================] - 0s 221us/sample - loss: 0.8782\n",
      "Epoch 185/200\n",
      "162/162 [==============================] - 0s 206us/sample - loss: 0.8743\n",
      "Epoch 186/200\n",
      "162/162 [==============================] - 0s 198us/sample - loss: 0.8710\n",
      "Epoch 187/200\n"
     ]
    },
    {
     "name": "stdout",
     "output_type": "stream",
     "text": [
      "162/162 [==============================] - 0s 176us/sample - loss: 0.8893\n",
      "Epoch 188/200\n",
      "162/162 [==============================] - 0s 177us/sample - loss: 0.8831\n",
      "Epoch 189/200\n",
      "162/162 [==============================] - 0s 157us/sample - loss: 0.8722\n",
      "Epoch 190/200\n",
      "162/162 [==============================] - 0s 193us/sample - loss: 0.8713\n",
      "Epoch 191/200\n",
      "162/162 [==============================] - 0s 153us/sample - loss: 0.8707\n",
      "Epoch 192/200\n",
      "162/162 [==============================] - 0s 232us/sample - loss: 0.8738\n",
      "Epoch 193/200\n",
      "162/162 [==============================] - 0s 246us/sample - loss: 0.8822\n",
      "Epoch 194/200\n",
      "162/162 [==============================] - 0s 230us/sample - loss: 0.8779\n",
      "Epoch 195/200\n",
      "162/162 [==============================] - 0s 196us/sample - loss: 0.8704\n",
      "Epoch 196/200\n",
      "162/162 [==============================] - 0s 178us/sample - loss: 0.9273\n",
      "Epoch 197/200\n",
      "162/162 [==============================] - 0s 188us/sample - loss: 0.9078\n",
      "Epoch 198/200\n",
      "162/162 [==============================] - 0s 196us/sample - loss: 0.8702\n",
      "Epoch 199/200\n",
      "162/162 [==============================] - 0s 176us/sample - loss: 0.8784\n",
      "Epoch 200/200\n",
      "162/162 [==============================] - 0s 166us/sample - loss: 0.8812\n"
     ]
    }
   ],
   "source": [
    "r = model.fit(X, y, epochs=200, callbacks=[scheduler])"
   ]
  },
  {
   "cell_type": "code",
   "execution_count": 24,
   "metadata": {},
   "outputs": [
    {
     "name": "stdout",
     "output_type": "stream",
     "text": [
      "[<tensorflow.python.keras.layers.core.Dense object at 0x7f1ab386b710>]\n"
     ]
    }
   ],
   "source": [
    "print(model.layers)"
   ]
  },
  {
   "cell_type": "code",
   "execution_count": 25,
   "metadata": {},
   "outputs": [
    {
     "name": "stdout",
     "output_type": "stream",
     "text": [
      "<tensorflow.python.keras.layers.core.Dense object at 0x7f1ab386b710>\n"
     ]
    }
   ],
   "source": [
    "for layer in model.layers:\n",
    "    print(layer)"
   ]
  },
  {
   "cell_type": "code",
   "execution_count": 26,
   "metadata": {},
   "outputs": [
    {
     "name": "stdout",
     "output_type": "stream",
     "text": [
      "[array([[0.34640536]], dtype=float32), array([17.759686], dtype=float32)]\n"
     ]
    }
   ],
   "source": [
    "print(model.layers[0].get_weights())"
   ]
  },
  {
   "cell_type": "markdown",
   "metadata": {},
   "source": [
    "///////////////////////////////////////////////////////////////////////////////////////////////\n",
    "\n",
    "# n = A(r^t)\n",
    "\n",
    "# where 'n' is the number of transistors on a chip in year 't'\n",
    "\n",
    "# log(n) = log(A) + tlog(r)\n",
    "\n",
    "# Upon comparing with y = mt + c,\n",
    "\n",
    "# m = log(r)\n",
    "///////////////////////////////////////////////////////////////////////////////////////////////"
   ]
  },
  {
   "cell_type": "code",
   "execution_count": 27,
   "metadata": {},
   "outputs": [],
   "source": [
    "m = model.layers[0].get_weights()[0][0,0]"
   ]
  },
  {
   "cell_type": "code",
   "execution_count": 28,
   "metadata": {},
   "outputs": [],
   "source": [
    "c = model.layers[0].get_weights()[1][0]"
   ]
  },
  {
   "cell_type": "code",
   "execution_count": 29,
   "metadata": {},
   "outputs": [
    {
     "data": {
      "text/plain": [
       "1.4139757"
      ]
     },
     "execution_count": 29,
     "metadata": {},
     "output_type": "execute_result"
    }
   ],
   "source": [
    "r = np.exp(m)\n",
    "r"
   ]
  },
  {
   "cell_type": "markdown",
   "metadata": {},
   "source": [
    "////////////////////////////////////////////////////////////\n",
    "# Lets find the doubling time\n",
    "\n",
    "# 2n = A(r^t')\n",
    "\n",
    "# n = A(r^t')\n",
    "\n",
    "# 2 = r^(t'-t)\n",
    "\n",
    "# log2 = (t'-t).log(r)\n",
    "\n",
    "# t'-t = log2 / m\n",
    "///////////////////////////////////////////////////////////"
   ]
  },
  {
   "cell_type": "code",
   "execution_count": 30,
   "metadata": {},
   "outputs": [
    {
     "data": {
      "text/plain": [
       "2.0009713080591416"
      ]
     },
     "execution_count": 30,
     "metadata": {},
     "output_type": "execute_result"
    }
   ],
   "source": [
    "np.log(2)/m"
   ]
  },
  {
   "cell_type": "markdown",
   "metadata": {},
   "source": [
    "# Part 2: Making Predictions"
   ]
  },
  {
   "cell_type": "code",
   "execution_count": 33,
   "metadata": {},
   "outputs": [],
   "source": [
    "yhat = model.predict(X).flatten()"
   ]
  },
  {
   "cell_type": "code",
   "execution_count": 35,
   "metadata": {},
   "outputs": [
    {
     "data": {
      "image/png": "[encoded data removed]",
      "text/plain": [
       "<Figure size 432x288 with 1 Axes>"
      ]
     },
     "metadata": {
      "needs_background": "light"
     },
     "output_type": "display_data"
    }
   ],
   "source": [
    "plt.scatter(X, y)\n",
    "plt.plot(X, yhat)\n",
    "plt.show()"
   ]
  },
  {
   "cell_type": "code",
   "execution_count": 36,
   "metadata": {},
   "outputs": [
    {
     "data": {
      "text/plain": [
       "True"
      ]
     },
     "execution_count": 36,
     "metadata": {},
     "output_type": "execute_result"
    }
   ],
   "source": [
    "w, b = model.layers[0].get_weights()\n",
    "\n",
    "X = X.reshape(-1, 1)\n",
    "\n",
    "yhat2 = (X.dot(w) + b).flatten()\n",
    "\n",
    "np.allclose(yhat2, yhat)     #NOTE: Using '==' for float doesn't work like one may think"
   ]
  }
 ],
 "metadata": {
  "kernelspec": {
   "display_name": "Python 3",
   "language": "python",
   "name": "python3"
  },
  "language_info": {
   "codemirror_mode": {
    "name": "ipython",
    "version": 3
   },
   "file_extension": ".py",
   "mimetype": "text/x-python",
   "name": "python",
   "nbconvert_exporter": "python",
   "pygments_lexer": "ipython3",
   "version": "3.7.4"
  }
 },
 "nbformat": 4,
 "nbformat_minor": 2
}
