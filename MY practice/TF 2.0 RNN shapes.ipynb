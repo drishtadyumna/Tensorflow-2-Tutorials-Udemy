{
 "cells": [
  {
   "cell_type": "code",
   "execution_count": 6,
   "metadata": {},
   "outputs": [],
   "source": [
    "import numpy as np\n",
    "import tensorflow as tf"
   ]
  },
  {
   "cell_type": "code",
   "execution_count": 7,
   "metadata": {},
   "outputs": [],
   "source": [
    "# N - number of samples\n",
    "# T - sequence length\n",
    "# D - number of input features\n",
    "# M - number of hidden units\n",
    "# K - number of output units"
   ]
  },
  {
   "cell_type": "code",
   "execution_count": 8,
   "metadata": {},
   "outputs": [],
   "source": [
    "N = 2\n",
    "T = 10\n",
    "D = 3\n",
    "M = 5\n",
    "K = 2\n",
    "\n",
    "X = np.random.randn(N, T, D)"
   ]
  },
  {
   "cell_type": "code",
   "execution_count": 9,
   "metadata": {},
   "outputs": [],
   "source": [
    "i = tf.keras.layers.Input(shape=(T, D))\n",
    "h = tf.keras.layers.SimpleRNN(M)(i)\n",
    "o = tf.keras.layers.Dense(K)(h)\n",
    "\n",
    "model = tf.keras.models.Model(i, o)\n",
    "model.compile(optimizer='adam', loss='mse')"
   ]
  },
  {
   "cell_type": "code",
   "execution_count": 10,
   "metadata": {},
   "outputs": [
    {
     "data": {
      "text/plain": [
       "array([[ 1.467792 , -0.545199 ],\n",
       "       [-2.0615668,  0.8141205]], dtype=float32)"
      ]
     },
     "execution_count": 10,
     "metadata": {},
     "output_type": "execute_result"
    }
   ],
   "source": [
    "y = model.predict(X)\n",
    "y"
   ]
  },
  {
   "cell_type": "code",
   "execution_count": 11,
   "metadata": {},
   "outputs": [
    {
     "data": {
      "text/plain": [
       "[array([[-0.64877963, -0.2031948 , -0.79939806,  0.85738415,  0.03319234],\n",
       "        [ 0.6027042 , -0.03664976,  0.46097606,  0.03987557,  0.13847452],\n",
       "        [-0.40207383, -0.4220903 ,  0.05192429,  0.38117653, -0.15553921]],\n",
       "       dtype=float32),\n",
       " array([[-0.51863146, -0.16735159,  0.5799345 ,  0.07047468,  0.6014351 ],\n",
       "        [-0.28143984, -0.17766361,  0.50108624, -0.30075306, -0.7400592 ],\n",
       "        [ 0.61449873, -0.6257174 ,  0.32928112,  0.349908  , -0.0027227 ],\n",
       "        [ 0.3848074 , -0.03910118,  0.12694326, -0.86283875,  0.2996484 ],\n",
       "        [-0.35514438, -0.73985   , -0.536701  , -0.1940484 ,  0.02813728]],\n",
       "       dtype=float32),\n",
       " array([0., 0., 0., 0., 0.], dtype=float32),\n",
       " array([[ 0.39898455, -0.85201085],\n",
       "        [ 0.55001974,  0.5666412 ],\n",
       "        [ 0.87546873, -0.23063368],\n",
       "        [-0.6118258 , -0.02297676],\n",
       "        [ 0.60882986,  0.5135362 ]], dtype=float32),\n",
       " array([0., 0.], dtype=float32)]"
      ]
     },
     "execution_count": 11,
     "metadata": {},
     "output_type": "execute_result"
    }
   ],
   "source": [
    "model.get_weights()"
   ]
  },
  {
   "cell_type": "code",
   "execution_count": 13,
   "metadata": {},
   "outputs": [
    {
     "name": "stdout",
     "output_type": "stream",
     "text": [
      "Model: \"model_1\"\n",
      "_________________________________________________________________\n",
      "Layer (type)                 Output Shape              Param #   \n",
      "=================================================================\n",
      "input_2 (InputLayer)         [(None, 10, 3)]           0         \n",
      "_________________________________________________________________\n",
      "simple_rnn_1 (SimpleRNN)     (None, 5)                 45        \n",
      "_________________________________________________________________\n",
      "dense_1 (Dense)              (None, 2)                 12        \n",
      "=================================================================\n",
      "Total params: 57\n",
      "Trainable params: 57\n",
      "Non-trainable params: 0\n",
      "_________________________________________________________________\n"
     ]
    }
   ],
   "source": [
    "model.summary()"
   ]
  },
  {
   "cell_type": "code",
   "execution_count": 17,
   "metadata": {},
   "outputs": [
    {
     "data": {
      "text/plain": [
       "[]"
      ]
     },
     "execution_count": 17,
     "metadata": {},
     "output_type": "execute_result"
    }
   ],
   "source": [
    "model.layers[0].get_weights()"
   ]
  },
  {
   "cell_type": "code",
   "execution_count": 20,
   "metadata": {
    "scrolled": true
   },
   "outputs": [
    {
     "data": {
      "text/plain": [
       "((3, 5), (5, 5), (5,))"
      ]
     },
     "execution_count": 20,
     "metadata": {},
     "output_type": "execute_result"
    }
   ],
   "source": [
    "a, b, c = model.layers[1].get_weights()\n",
    "a.shape, b.shape, c.shape"
   ]
  },
  {
   "cell_type": "code",
   "execution_count": 21,
   "metadata": {},
   "outputs": [
    {
     "data": {
      "text/plain": [
       "((5, 2), (2,))"
      ]
     },
     "execution_count": 21,
     "metadata": {},
     "output_type": "execute_result"
    }
   ],
   "source": [
    "d, e = model.layers[2].get_weights()\n",
    "d.shape, e.shape"
   ]
  },
  {
   "cell_type": "code",
   "execution_count": 22,
   "metadata": {},
   "outputs": [],
   "source": [
    "Wxh = a\n",
    "Whh = b\n",
    "bh = c\n",
    "\n",
    "Who = d\n",
    "bo = e"
   ]
  },
  {
   "cell_type": "code",
   "execution_count": 39,
   "metadata": {},
   "outputs": [
    {
     "name": "stdout",
     "output_type": "stream",
     "text": [
      "[[ 1.00362418 -0.23624566]\n",
      " [-2.18546582  0.65132706]]\n"
     ]
    }
   ],
   "source": [
    "h_last = np.zeros(M)\n",
    "y_hat = []\n",
    "\n",
    "for t in range(T):\n",
    "    h = np.tanh(X[:, t, :].dot(Wxh) + h_last.dot(Whh) + bh)\n",
    "    y = h.dot(Who) + bo\n",
    "    y_hat.append(y)\n",
    "    \n",
    "print(y_hat[-1])"
   ]
  },
  {
   "cell_type": "code",
   "execution_count": 32,
   "metadata": {},
   "outputs": [
    {
     "name": "stdout",
     "output_type": "stream",
     "text": [
      "[[ 0.52788606  1.20597272 -0.89763457]\n",
      " [ 1.75151164  1.29109194 -0.20766758]]\n",
      "\n",
      "(2, 3)\n"
     ]
    }
   ],
   "source": [
    "one_time_step_input = X[:, 1, :]\n",
    "\n",
    "print(one_time_step_input)\n",
    "\n",
    "print()\n",
    "\n",
    "print(one_time_step_input.shape)"
   ]
  },
  {
   "cell_type": "code",
   "execution_count": 41,
   "metadata": {},
   "outputs": [
    {
     "data": {
      "text/plain": [
       "(10, 2, 2)"
      ]
     },
     "execution_count": 41,
     "metadata": {},
     "output_type": "execute_result"
    }
   ],
   "source": [
    "np.array(y_hat).shape"
   ]
  }
 ],
 "metadata": {
  "kernelspec": {
   "display_name": "Python 3",
   "language": "python",
   "name": "python3"
  },
  "language_info": {
   "codemirror_mode": {
    "name": "ipython",
    "version": 3
   },
   "file_extension": ".py",
   "mimetype": "text/x-python",
   "name": "python",
   "nbconvert_exporter": "python",
   "pygments_lexer": "ipython3",
   "version": "3.7.4"
  }
 },
 "nbformat": 4,
 "nbformat_minor": 2
}
