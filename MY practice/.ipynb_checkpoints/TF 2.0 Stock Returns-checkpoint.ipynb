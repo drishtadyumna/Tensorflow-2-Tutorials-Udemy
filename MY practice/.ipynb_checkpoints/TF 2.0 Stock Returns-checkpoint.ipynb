{
 "cells": [
  {
   "cell_type": "code",
   "execution_count": 1,
   "metadata": {},
   "outputs": [],
   "source": [
    "import yfinance as yf"
   ]
  },
  {
   "cell_type": "code",
   "execution_count": 98,
   "metadata": {},
   "outputs": [],
   "source": [
    "import numpy as np\n",
    "import pandas as pd\n",
    "import tensorflow as tf\n",
    "import matplotlib.pyplot as plt\n",
    "from sklearn.preprocessing import MinMaxScaler\n",
    "from sklearn.metrics import mean_squared_error"
   ]
  },
  {
   "cell_type": "code",
   "execution_count": 2,
   "metadata": {},
   "outputs": [
    {
     "name": "stdout",
     "output_type": "stream",
     "text": [
      "[*********************100%***********************]  1 of 1 completed\n"
     ]
    }
   ],
   "source": [
    "data_df = yf.download(\"AAPL\", start=\"2015-02-01\", end=\"2020-03-20\")"
   ]
  },
  {
   "cell_type": "code",
   "execution_count": 5,
   "metadata": {},
   "outputs": [],
   "source": [
    "df = data_df.reset_index()"
   ]
  },
  {
   "cell_type": "code",
   "execution_count": 6,
   "metadata": {},
   "outputs": [
    {
     "data": {
      "text/html": [
       "<div>\n",
       "<style scoped>\n",
       "    .dataframe tbody tr th:only-of-type {\n",
       "        vertical-align: middle;\n",
       "    }\n",
       "\n",
       "    .dataframe tbody tr th {\n",
       "        vertical-align: top;\n",
       "    }\n",
       "\n",
       "    .dataframe thead th {\n",
       "        text-align: right;\n",
       "    }\n",
       "</style>\n",
       "<table border=\"1\" class=\"dataframe\">\n",
       "  <thead>\n",
       "    <tr style=\"text-align: right;\">\n",
       "      <th></th>\n",
       "      <th>Date</th>\n",
       "      <th>Open</th>\n",
       "      <th>High</th>\n",
       "      <th>Low</th>\n",
       "      <th>Close</th>\n",
       "      <th>Adj Close</th>\n",
       "      <th>Volume</th>\n",
       "    </tr>\n",
       "  </thead>\n",
       "  <tbody>\n",
       "    <tr>\n",
       "      <td>0</td>\n",
       "      <td>2015-02-02</td>\n",
       "      <td>118.050003</td>\n",
       "      <td>119.169998</td>\n",
       "      <td>116.080002</td>\n",
       "      <td>118.629997</td>\n",
       "      <td>108.447662</td>\n",
       "      <td>62739100</td>\n",
       "    </tr>\n",
       "    <tr>\n",
       "      <td>1</td>\n",
       "      <td>2015-02-03</td>\n",
       "      <td>118.500000</td>\n",
       "      <td>119.089996</td>\n",
       "      <td>117.610001</td>\n",
       "      <td>118.650002</td>\n",
       "      <td>108.465935</td>\n",
       "      <td>51915700</td>\n",
       "    </tr>\n",
       "    <tr>\n",
       "      <td>2</td>\n",
       "      <td>2015-02-04</td>\n",
       "      <td>118.500000</td>\n",
       "      <td>120.510002</td>\n",
       "      <td>118.309998</td>\n",
       "      <td>119.559998</td>\n",
       "      <td>109.297836</td>\n",
       "      <td>70149700</td>\n",
       "    </tr>\n",
       "    <tr>\n",
       "      <td>3</td>\n",
       "      <td>2015-02-05</td>\n",
       "      <td>120.019997</td>\n",
       "      <td>120.230003</td>\n",
       "      <td>119.250000</td>\n",
       "      <td>119.940002</td>\n",
       "      <td>110.077942</td>\n",
       "      <td>42246200</td>\n",
       "    </tr>\n",
       "    <tr>\n",
       "      <td>4</td>\n",
       "      <td>2015-02-06</td>\n",
       "      <td>120.019997</td>\n",
       "      <td>120.250000</td>\n",
       "      <td>118.449997</td>\n",
       "      <td>118.930000</td>\n",
       "      <td>109.150978</td>\n",
       "      <td>43706600</td>\n",
       "    </tr>\n",
       "  </tbody>\n",
       "</table>\n",
       "</div>"
      ],
      "text/plain": [
       "        Date        Open        High         Low       Close   Adj Close  \\\n",
       "0 2015-02-02  118.050003  119.169998  116.080002  118.629997  108.447662   \n",
       "1 2015-02-03  118.500000  119.089996  117.610001  118.650002  108.465935   \n",
       "2 2015-02-04  118.500000  120.510002  118.309998  119.559998  109.297836   \n",
       "3 2015-02-05  120.019997  120.230003  119.250000  119.940002  110.077942   \n",
       "4 2015-02-06  120.019997  120.250000  118.449997  118.930000  109.150978   \n",
       "\n",
       "     Volume  \n",
       "0  62739100  \n",
       "1  51915700  \n",
       "2  70149700  \n",
       "3  42246200  \n",
       "4  43706600  "
      ]
     },
     "execution_count": 6,
     "metadata": {},
     "output_type": "execute_result"
    }
   ],
   "source": [
    "df.head()"
   ]
  },
  {
   "cell_type": "code",
   "execution_count": 83,
   "metadata": {},
   "outputs": [],
   "source": [
    "series = np.array(df['Close'])\n",
    "series = MinMaxScaler().fit_transform(series.reshape(-1, 1)).flatten()\n",
    "T = 10\n",
    "X = []\n",
    "y = []\n",
    "\n",
    "for t in range(len(df) - T):\n",
    "    X.append(series[t:t+T])\n",
    "    y.append(series[t+T])"
   ]
  },
  {
   "cell_type": "code",
   "execution_count": 84,
   "metadata": {},
   "outputs": [],
   "source": [
    "X = np.expand_dims(np.array(X), -1)\n",
    "y = np.array(y)"
   ]
  },
  {
   "cell_type": "code",
   "execution_count": 85,
   "metadata": {},
   "outputs": [
    {
     "data": {
      "text/plain": [
       "((1282, 10, 1), (1282,))"
      ]
     },
     "execution_count": 85,
     "metadata": {},
     "output_type": "execute_result"
    }
   ],
   "source": [
    "X.shape, y.shape"
   ]
  },
  {
   "cell_type": "code",
   "execution_count": 94,
   "metadata": {},
   "outputs": [],
   "source": [
    "i = tf.keras.layers.Input(shape=(X[0].shape))\n",
    "j = tf.keras.layers.LSTM(10)(i)\n",
    "j = tf.keras.layers.Dense(1)(j)\n",
    "\n",
    "model = tf.keras.models.Model(i, j)\n",
    "\n",
    "model.compile(optimizer=tf.keras.optimizers.Adam(lr=0.1), loss='mse')"
   ]
  },
  {
   "cell_type": "code",
   "execution_count": 95,
   "metadata": {},
   "outputs": [
    {
     "name": "stdout",
     "output_type": "stream",
     "text": [
      "Train on 641 samples, validate on 641 samples\n",
      "Epoch 1/60\n",
      "641/641 [==============================] - 15s 23ms/sample - loss: 0.0423 - val_loss: 0.1833\n",
      "Epoch 2/60\n",
      "641/641 [==============================] - 1s 2ms/sample - loss: 0.0057 - val_loss: 0.1370\n",
      "Epoch 3/60\n",
      "641/641 [==============================] - 1s 2ms/sample - loss: 0.0036 - val_loss: 0.0771\n",
      "Epoch 4/60\n",
      "641/641 [==============================] - 1s 2ms/sample - loss: 0.0011 - val_loss: 0.0194\n",
      "Epoch 5/60\n",
      "641/641 [==============================] - 2s 3ms/sample - loss: 3.0199e-04 - val_loss: 0.0218\n",
      "Epoch 6/60\n",
      "641/641 [==============================] - 2s 2ms/sample - loss: 1.9384e-04 - val_loss: 0.0146\n",
      "Epoch 7/60\n",
      "641/641 [==============================] - 2s 3ms/sample - loss: 2.2256e-04 - val_loss: 0.0127\n",
      "Epoch 8/60\n",
      "641/641 [==============================] - 2s 3ms/sample - loss: 9.5609e-05 - val_loss: 0.0112\n",
      "Epoch 9/60\n",
      "641/641 [==============================] - 1s 2ms/sample - loss: 1.1626e-04 - val_loss: 0.0091\n",
      "Epoch 10/60\n",
      "641/641 [==============================] - 1s 2ms/sample - loss: 9.5237e-05 - val_loss: 0.0083\n",
      "Epoch 11/60\n",
      "641/641 [==============================] - 2s 3ms/sample - loss: 8.0184e-05 - val_loss: 0.0072\n",
      "Epoch 12/60\n",
      "641/641 [==============================] - 2s 4ms/sample - loss: 7.8047e-05 - val_loss: 0.0060\n",
      "Epoch 13/60\n",
      "641/641 [==============================] - 2s 3ms/sample - loss: 1.1259e-04 - val_loss: 0.0060\n",
      "Epoch 14/60\n",
      "641/641 [==============================] - 2s 2ms/sample - loss: 7.5678e-05 - val_loss: 0.0053\n",
      "Epoch 15/60\n",
      "641/641 [==============================] - 1s 2ms/sample - loss: 8.3074e-05 - val_loss: 0.0051\n",
      "Epoch 16/60\n",
      "641/641 [==============================] - 2s 3ms/sample - loss: 7.0986e-05 - val_loss: 0.0043\n",
      "Epoch 17/60\n",
      "641/641 [==============================] - 2s 3ms/sample - loss: 1.6718e-04 - val_loss: 0.0043\n",
      "Epoch 18/60\n",
      "641/641 [==============================] - 2s 2ms/sample - loss: 2.0778e-04 - val_loss: 0.0044\n",
      "Epoch 19/60\n",
      "641/641 [==============================] - 2s 2ms/sample - loss: 8.5208e-05 - val_loss: 0.0058\n",
      "Epoch 20/60\n",
      "641/641 [==============================] - 2s 2ms/sample - loss: 8.0751e-05 - val_loss: 0.0053\n",
      "Epoch 21/60\n",
      "641/641 [==============================] - 2s 3ms/sample - loss: 7.3060e-05 - val_loss: 0.0050\n",
      "Epoch 22/60\n",
      "641/641 [==============================] - 2s 3ms/sample - loss: 8.3302e-05 - val_loss: 0.0042\n",
      "Epoch 23/60\n",
      "641/641 [==============================] - 2s 2ms/sample - loss: 7.5468e-05 - val_loss: 0.0044\n",
      "Epoch 24/60\n",
      "641/641 [==============================] - 2s 2ms/sample - loss: 1.2934e-04 - val_loss: 0.0042\n",
      "Epoch 25/60\n",
      "641/641 [==============================] - 2s 3ms/sample - loss: 8.9182e-05 - val_loss: 0.0042\n",
      "Epoch 26/60\n",
      "641/641 [==============================] - 2s 3ms/sample - loss: 8.5106e-05 - val_loss: 0.0037\n",
      "Epoch 27/60\n",
      "641/641 [==============================] - 2s 3ms/sample - loss: 7.6118e-05 - val_loss: 0.0038\n",
      "Epoch 28/60\n",
      "641/641 [==============================] - 2s 2ms/sample - loss: 6.5087e-05 - val_loss: 0.0037\n",
      "Epoch 29/60\n",
      "641/641 [==============================] - 2s 2ms/sample - loss: 7.3524e-05 - val_loss: 0.0038\n",
      "Epoch 30/60\n",
      "641/641 [==============================] - 2s 2ms/sample - loss: 7.7448e-05 - val_loss: 0.0036\n",
      "Epoch 31/60\n",
      "641/641 [==============================] - 2s 3ms/sample - loss: 7.0730e-05 - val_loss: 0.0040\n",
      "Epoch 32/60\n",
      "641/641 [==============================] - 2s 3ms/sample - loss: 6.7385e-05 - val_loss: 0.0038\n",
      "Epoch 33/60\n",
      "641/641 [==============================] - 2s 3ms/sample - loss: 6.2740e-05 - val_loss: 0.0038\n",
      "Epoch 34/60\n",
      "641/641 [==============================] - 2s 3ms/sample - loss: 7.4292e-05 - val_loss: 0.0051\n",
      "Epoch 35/60\n",
      "641/641 [==============================] - 2s 3ms/sample - loss: 2.2206e-04 - val_loss: 0.0037\n",
      "Epoch 36/60\n",
      "641/641 [==============================] - 2s 2ms/sample - loss: 1.0812e-04 - val_loss: 0.0047\n",
      "Epoch 37/60\n",
      "641/641 [==============================] - 1s 2ms/sample - loss: 8.4191e-05 - val_loss: 0.0035\n",
      "Epoch 38/60\n",
      "641/641 [==============================] - 2s 3ms/sample - loss: 6.9645e-05 - val_loss: 0.0032\n",
      "Epoch 39/60\n",
      "641/641 [==============================] - 2s 3ms/sample - loss: 6.1956e-05 - val_loss: 0.0032\n",
      "Epoch 40/60\n",
      "641/641 [==============================] - 2s 3ms/sample - loss: 6.3638e-05 - val_loss: 0.0031\n",
      "Epoch 41/60\n",
      "641/641 [==============================] - 2s 3ms/sample - loss: 6.5318e-05 - val_loss: 0.0041\n",
      "Epoch 42/60\n",
      "641/641 [==============================] - 2s 2ms/sample - loss: 1.0332e-04 - val_loss: 0.0035\n",
      "Epoch 43/60\n",
      "641/641 [==============================] - 2s 3ms/sample - loss: 1.3481e-04 - val_loss: 0.0037\n",
      "Epoch 44/60\n",
      "641/641 [==============================] - 2s 3ms/sample - loss: 8.8837e-05 - val_loss: 0.0063\n",
      "Epoch 45/60\n",
      "641/641 [==============================] - 2s 3ms/sample - loss: 3.1190e-04 - val_loss: 0.0045\n",
      "Epoch 46/60\n",
      "641/641 [==============================] - 2s 2ms/sample - loss: 8.5226e-05 - val_loss: 0.0046\n",
      "Epoch 47/60\n",
      "641/641 [==============================] - 2s 2ms/sample - loss: 8.2893e-05 - val_loss: 0.0037\n",
      "Epoch 48/60\n",
      "641/641 [==============================] - 2s 3ms/sample - loss: 6.2687e-05 - val_loss: 0.0029\n",
      "Epoch 49/60\n",
      "641/641 [==============================] - 2s 3ms/sample - loss: 9.6576e-05 - val_loss: 0.0045\n",
      "Epoch 50/60\n",
      "641/641 [==============================] - 2s 3ms/sample - loss: 1.1226e-04 - val_loss: 0.0041\n",
      "Epoch 51/60\n",
      "641/641 [==============================] - 2s 3ms/sample - loss: 1.1824e-04 - val_loss: 0.0033\n",
      "Epoch 52/60\n",
      "641/641 [==============================] - 2s 3ms/sample - loss: 8.9871e-05 - val_loss: 0.0034\n",
      "Epoch 53/60\n",
      "641/641 [==============================] - 2s 3ms/sample - loss: 5.9313e-05 - val_loss: 0.0041\n",
      "Epoch 54/60\n",
      "641/641 [==============================] - 2s 3ms/sample - loss: 5.8463e-05 - val_loss: 0.0034\n",
      "Epoch 55/60\n",
      "641/641 [==============================] - 2s 3ms/sample - loss: 6.4292e-05 - val_loss: 0.0033\n",
      "Epoch 56/60\n",
      "641/641 [==============================] - 2s 3ms/sample - loss: 6.1182e-05 - val_loss: 0.0031\n",
      "Epoch 57/60\n",
      "641/641 [==============================] - 2s 3ms/sample - loss: 6.2678e-05 - val_loss: 0.0023\n",
      "Epoch 58/60\n",
      "641/641 [==============================] - 2s 3ms/sample - loss: 1.8807e-04 - val_loss: 0.0045\n",
      "Epoch 59/60\n",
      "641/641 [==============================] - 2s 3ms/sample - loss: 1.2403e-04 - val_loss: 0.0039\n",
      "Epoch 60/60\n",
      "641/641 [==============================] - 2s 3ms/sample - loss: 7.1800e-05 - val_loss: 0.0026\n"
     ]
    }
   ],
   "source": [
    "N = len(X)\n",
    "r = model.fit(X[:N//2], y[:N//2], validation_data = [X[N//2:], y[N//2:]], epochs=60)"
   ]
  },
  {
   "cell_type": "code",
   "execution_count": 96,
   "metadata": {},
   "outputs": [
    {
     "data": {
      "image/png": "[encoded data removed]",
      "text/plain": [
       "<Figure size 432x288 with 1 Axes>"
      ]
     },
     "metadata": {
      "needs_background": "light"
     },
     "output_type": "display_data"
    }
   ],
   "source": [
    "plt.plot(r.history['loss'], label='loss')\n",
    "plt.plot(r.history['val_loss'], label='val_loss')\n",
    "plt.legend()\n",
    "plt.show()"
   ]
  },
  {
   "cell_type": "code",
   "execution_count": 97,
   "metadata": {},
   "outputs": [
    {
     "data": {
      "image/png": "[encoded data removed]",
      "text/plain": [
       "<Figure size 432x288 with 1 Axes>"
      ]
     },
     "metadata": {
      "needs_background": "light"
     },
     "output_type": "display_data"
    }
   ],
   "source": [
    "#One-step preeiction\n",
    "\n",
    "y_hat = model.predict(X[N//2:])\n",
    "plt.plot(y_hat, label='predicted')\n",
    "plt.plot(y[N//2:], label='actual')\n",
    "plt.legend()\n",
    "plt.show()"
   ]
  },
  {
   "cell_type": "code",
   "execution_count": 101,
   "metadata": {},
   "outputs": [
    {
     "data": {
      "text/plain": [
       "0.05063666465843004"
      ]
     },
     "execution_count": 101,
     "metadata": {},
     "output_type": "execute_result"
    }
   ],
   "source": [
    "np.sqrt(mean_squared_error(y_hat, y[N//2:]))"
   ]
  },
  {
   "cell_type": "code",
   "execution_count": 102,
   "metadata": {},
   "outputs": [
    {
     "data": {
      "image/png": "[encoded data removed]",
      "text/plain": [
       "<Figure size 432x288 with 1 Axes>"
      ]
     },
     "metadata": {
      "needs_background": "light"
     },
     "output_type": "display_data"
    }
   ],
   "source": [
    "# Naive predictor\n",
    "\n",
    "y_hat = y[(N//2 - 1):-1]\n",
    "plt.plot(y_hat, label='predicted')\n",
    "plt.plot(y[N//2:], label='actual')\n",
    "plt.legend()\n",
    "plt.show()"
   ]
  },
  {
   "cell_type": "code",
   "execution_count": 103,
   "metadata": {},
   "outputs": [
    {
     "data": {
      "text/plain": [
       "0.018695161385667642"
      ]
     },
     "execution_count": 103,
     "metadata": {},
     "output_type": "execute_result"
    }
   ],
   "source": [
    "np.sqrt(mean_squared_error(y_hat, y[N//2:]))"
   ]
  },
  {
   "cell_type": "code",
   "execution_count": 104,
   "metadata": {},
   "outputs": [
    {
     "data": {
      "image/png": "[encoded data removed]",
      "text/plain": [
       "<Figure size 432x288 with 1 Axes>"
      ]
     },
     "metadata": {
      "needs_background": "light"
     },
     "output_type": "display_data"
    }
   ],
   "source": [
    "# Mult-step prediction\n",
    "\n",
    "y_hat = []\n",
    "\n",
    "X_useful = series[N//2 : N//2+T]\n",
    "\n",
    "for i in range(N//2-T):\n",
    "    x_last = model.predict(X_useful[i:i+10].reshape(1, 10, 1))[0, 0]\n",
    "    y_hat.append(x_last)\n",
    "    X_useful = np.append(X_useful, x_last)\n",
    "    \n",
    "\n",
    "plt.plot(y_hat, label='Forecasted')\n",
    "plt.plot(y[N//2:], label='Actual')\n",
    "plt.legend()\n",
    "plt.title('Multi Step predictions')\n",
    "plt.show()"
   ]
  },
  {
   "cell_type": "code",
   "execution_count": 105,
   "metadata": {},
   "outputs": [
    {
     "data": {
      "text/html": [
       "<div>\n",
       "<style scoped>\n",
       "    .dataframe tbody tr th:only-of-type {\n",
       "        vertical-align: middle;\n",
       "    }\n",
       "\n",
       "    .dataframe tbody tr th {\n",
       "        vertical-align: top;\n",
       "    }\n",
       "\n",
       "    .dataframe thead th {\n",
       "        text-align: right;\n",
       "    }\n",
       "</style>\n",
       "<table border=\"1\" class=\"dataframe\">\n",
       "  <thead>\n",
       "    <tr style=\"text-align: right;\">\n",
       "      <th></th>\n",
       "      <th>Date</th>\n",
       "      <th>Open</th>\n",
       "      <th>High</th>\n",
       "      <th>Low</th>\n",
       "      <th>Close</th>\n",
       "      <th>Adj Close</th>\n",
       "      <th>Volume</th>\n",
       "      <th>previous_close</th>\n",
       "    </tr>\n",
       "  </thead>\n",
       "  <tbody>\n",
       "    <tr>\n",
       "      <td>0</td>\n",
       "      <td>2015-02-02</td>\n",
       "      <td>118.050003</td>\n",
       "      <td>119.169998</td>\n",
       "      <td>116.080002</td>\n",
       "      <td>118.629997</td>\n",
       "      <td>108.447662</td>\n",
       "      <td>62739100</td>\n",
       "      <td>NaN</td>\n",
       "    </tr>\n",
       "    <tr>\n",
       "      <td>1</td>\n",
       "      <td>2015-02-03</td>\n",
       "      <td>118.500000</td>\n",
       "      <td>119.089996</td>\n",
       "      <td>117.610001</td>\n",
       "      <td>118.650002</td>\n",
       "      <td>108.465935</td>\n",
       "      <td>51915700</td>\n",
       "      <td>118.629997</td>\n",
       "    </tr>\n",
       "    <tr>\n",
       "      <td>2</td>\n",
       "      <td>2015-02-04</td>\n",
       "      <td>118.500000</td>\n",
       "      <td>120.510002</td>\n",
       "      <td>118.309998</td>\n",
       "      <td>119.559998</td>\n",
       "      <td>109.297836</td>\n",
       "      <td>70149700</td>\n",
       "      <td>118.650002</td>\n",
       "    </tr>\n",
       "    <tr>\n",
       "      <td>3</td>\n",
       "      <td>2015-02-05</td>\n",
       "      <td>120.019997</td>\n",
       "      <td>120.230003</td>\n",
       "      <td>119.250000</td>\n",
       "      <td>119.940002</td>\n",
       "      <td>110.077942</td>\n",
       "      <td>42246200</td>\n",
       "      <td>119.559998</td>\n",
       "    </tr>\n",
       "    <tr>\n",
       "      <td>4</td>\n",
       "      <td>2015-02-06</td>\n",
       "      <td>120.019997</td>\n",
       "      <td>120.250000</td>\n",
       "      <td>118.449997</td>\n",
       "      <td>118.930000</td>\n",
       "      <td>109.150978</td>\n",
       "      <td>43706600</td>\n",
       "      <td>119.940002</td>\n",
       "    </tr>\n",
       "  </tbody>\n",
       "</table>\n",
       "</div>"
      ],
      "text/plain": [
       "        Date        Open        High         Low       Close   Adj Close  \\\n",
       "0 2015-02-02  118.050003  119.169998  116.080002  118.629997  108.447662   \n",
       "1 2015-02-03  118.500000  119.089996  117.610001  118.650002  108.465935   \n",
       "2 2015-02-04  118.500000  120.510002  118.309998  119.559998  109.297836   \n",
       "3 2015-02-05  120.019997  120.230003  119.250000  119.940002  110.077942   \n",
       "4 2015-02-06  120.019997  120.250000  118.449997  118.930000  109.150978   \n",
       "\n",
       "     Volume  previous_close  \n",
       "0  62739100             NaN  \n",
       "1  51915700      118.629997  \n",
       "2  70149700      118.650002  \n",
       "3  42246200      119.559998  \n",
       "4  43706600      119.940002  "
      ]
     },
     "execution_count": 105,
     "metadata": {},
     "output_type": "execute_result"
    }
   ],
   "source": [
    "df['previous_close'] = df['Close'].shift(1)\n",
    "df.head()"
   ]
  },
  {
   "cell_type": "code",
   "execution_count": 108,
   "metadata": {},
   "outputs": [],
   "source": [
    "df['return'] = (df['Close'] - df['previous_close']) *100 / df['previous_close']"
   ]
  },
  {
   "cell_type": "code",
   "execution_count": 111,
   "metadata": {},
   "outputs": [],
   "source": [
    "df = df.dropna()"
   ]
  },
  {
   "cell_type": "code",
   "execution_count": 114,
   "metadata": {},
   "outputs": [],
   "source": [
    "series = np.array(df['return'])\n",
    "series = MinMaxScaler().fit_transform(series.reshape(-1, 1)).flatten()\n",
    "T = 10\n",
    "X = []\n",
    "y = []\n",
    "\n",
    "for t in range(len(df) - T):\n",
    "    X.append(series[t:t+T])\n",
    "    y.append(series[t+T])"
   ]
  },
  {
   "cell_type": "code",
   "execution_count": 115,
   "metadata": {},
   "outputs": [
    {
     "name": "stdout",
     "output_type": "stream",
     "text": [
      "Train on 640 samples, validate on 641 samples\n",
      "Epoch 1/60\n",
      "640/640 [==============================] - 16s 24ms/sample - loss: 0.0557 - val_loss: 0.0081\n",
      "Epoch 2/60\n",
      "640/640 [==============================] - 2s 3ms/sample - loss: 0.0037 - val_loss: 0.0064\n",
      "Epoch 3/60\n",
      "640/640 [==============================] - 2s 3ms/sample - loss: 0.0036 - val_loss: 0.0065\n",
      "Epoch 4/60\n",
      "640/640 [==============================] - 2s 2ms/sample - loss: 0.0034 - val_loss: 0.0063\n",
      "Epoch 5/60\n",
      "640/640 [==============================] - 2s 3ms/sample - loss: 0.0036 - val_loss: 0.0063\n",
      "Epoch 6/60\n",
      "640/640 [==============================] - 2s 4ms/sample - loss: 0.0035 - val_loss: 0.0063\n",
      "Epoch 7/60\n",
      "640/640 [==============================] - 2s 3ms/sample - loss: 0.0036 - val_loss: 0.0063\n",
      "Epoch 8/60\n",
      "640/640 [==============================] - 2s 2ms/sample - loss: 0.0039 - val_loss: 0.0064\n",
      "Epoch 9/60\n",
      "640/640 [==============================] - 2s 3ms/sample - loss: 0.0036 - val_loss: 0.0063\n",
      "Epoch 10/60\n",
      "640/640 [==============================] - 1s 2ms/sample - loss: 0.0035 - val_loss: 0.0063\n",
      "Epoch 11/60\n",
      "640/640 [==============================] - 2s 2ms/sample - loss: 0.0035 - val_loss: 0.0063\n",
      "Epoch 12/60\n",
      "640/640 [==============================] - 2s 2ms/sample - loss: 0.0037 - val_loss: 0.0064\n",
      "Epoch 13/60\n",
      "640/640 [==============================] - 1s 2ms/sample - loss: 0.0038 - val_loss: 0.0065\n",
      "Epoch 14/60\n",
      "640/640 [==============================] - 1s 2ms/sample - loss: 0.0036 - val_loss: 0.0064\n",
      "Epoch 15/60\n",
      "640/640 [==============================] - 2s 3ms/sample - loss: 0.0035 - val_loss: 0.0064\n",
      "Epoch 16/60\n",
      "640/640 [==============================] - 1s 2ms/sample - loss: 0.0036 - val_loss: 0.0063\n",
      "Epoch 17/60\n",
      "640/640 [==============================] - 2s 2ms/sample - loss: 0.0035 - val_loss: 0.0063\n",
      "Epoch 18/60\n",
      "640/640 [==============================] - 2s 3ms/sample - loss: 0.0035 - val_loss: 0.0065\n",
      "Epoch 19/60\n",
      "640/640 [==============================] - 2s 3ms/sample - loss: 0.0035 - val_loss: 0.0064\n",
      "Epoch 20/60\n",
      "640/640 [==============================] - 2s 3ms/sample - loss: 0.0035 - val_loss: 0.0063\n",
      "Epoch 21/60\n",
      "640/640 [==============================] - 2s 3ms/sample - loss: 0.0035 - val_loss: 0.0064\n",
      "Epoch 22/60\n",
      "640/640 [==============================] - 2s 3ms/sample - loss: 0.0036 - val_loss: 0.0063\n",
      "Epoch 23/60\n",
      "640/640 [==============================] - 2s 4ms/sample - loss: 0.0036 - val_loss: 0.0065\n",
      "Epoch 24/60\n",
      "640/640 [==============================] - 2s 3ms/sample - loss: 0.0035 - val_loss: 0.0063\n",
      "Epoch 25/60\n",
      "640/640 [==============================] - 2s 3ms/sample - loss: 0.0035 - val_loss: 0.0063\n",
      "Epoch 26/60\n",
      "640/640 [==============================] - 2s 3ms/sample - loss: 0.0036 - val_loss: 0.0064\n",
      "Epoch 27/60\n",
      "640/640 [==============================] - 2s 4ms/sample - loss: 0.0037 - val_loss: 0.0063\n",
      "Epoch 28/60\n",
      "640/640 [==============================] - 2s 3ms/sample - loss: 0.0036 - val_loss: 0.0064\n",
      "Epoch 29/60\n",
      "640/640 [==============================] - 2s 3ms/sample - loss: 0.0037 - val_loss: 0.0066\n",
      "Epoch 30/60\n",
      "640/640 [==============================] - 1s 2ms/sample - loss: 0.0037 - val_loss: 0.0063\n",
      "Epoch 31/60\n",
      "640/640 [==============================] - 1s 2ms/sample - loss: 0.0037 - val_loss: 0.0068\n",
      "Epoch 32/60\n",
      "640/640 [==============================] - 2s 2ms/sample - loss: 0.0035 - val_loss: 0.0063\n",
      "Epoch 33/60\n",
      "640/640 [==============================] - 1s 2ms/sample - loss: 0.0035 - val_loss: 0.0064\n",
      "Epoch 34/60\n",
      "640/640 [==============================] - 2s 3ms/sample - loss: 0.0035 - val_loss: 0.0063\n",
      "Epoch 35/60\n",
      "640/640 [==============================] - 1s 2ms/sample - loss: 0.0035 - val_loss: 0.0064\n",
      "Epoch 36/60\n",
      "640/640 [==============================] - 1s 2ms/sample - loss: 0.0035 - val_loss: 0.0066\n",
      "Epoch 37/60\n",
      "640/640 [==============================] - 2s 2ms/sample - loss: 0.0035 - val_loss: 0.0064\n",
      "Epoch 38/60\n",
      "640/640 [==============================] - 1s 2ms/sample - loss: 0.0036 - val_loss: 0.0063\n",
      "Epoch 39/60\n",
      "640/640 [==============================] - 2s 2ms/sample - loss: 0.0035 - val_loss: 0.0063\n",
      "Epoch 40/60\n",
      "640/640 [==============================] - 1s 2ms/sample - loss: 0.0037 - val_loss: 0.0075\n",
      "Epoch 41/60\n",
      "640/640 [==============================] - 1s 2ms/sample - loss: 0.0038 - val_loss: 0.0067\n",
      "Epoch 42/60\n",
      "640/640 [==============================] - 1s 2ms/sample - loss: 0.0035 - val_loss: 0.0064\n",
      "Epoch 43/60\n",
      "640/640 [==============================] - 2s 3ms/sample - loss: 0.0035 - val_loss: 0.0063\n",
      "Epoch 44/60\n",
      "640/640 [==============================] - 3s 4ms/sample - loss: 0.0035 - val_loss: 0.0063\n",
      "Epoch 45/60\n",
      "640/640 [==============================] - 2s 4ms/sample - loss: 0.0035 - val_loss: 0.0063\n",
      "Epoch 46/60\n",
      "640/640 [==============================] - 2s 4ms/sample - loss: 0.0035 - val_loss: 0.0063\n",
      "Epoch 47/60\n",
      "640/640 [==============================] - 2s 3ms/sample - loss: 0.0036 - val_loss: 0.0067\n",
      "Epoch 48/60\n",
      "640/640 [==============================] - 2s 4ms/sample - loss: 0.0036 - val_loss: 0.0067\n",
      "Epoch 49/60\n",
      "640/640 [==============================] - 2s 3ms/sample - loss: 0.0037 - val_loss: 0.0063\n",
      "Epoch 50/60\n",
      "640/640 [==============================] - 2s 3ms/sample - loss: 0.0035 - val_loss: 0.0063\n",
      "Epoch 51/60\n",
      "640/640 [==============================] - 2s 2ms/sample - loss: 0.0035 - val_loss: 0.0063\n",
      "Epoch 52/60\n",
      "640/640 [==============================] - 2s 2ms/sample - loss: 0.0038 - val_loss: 0.0070\n",
      "Epoch 53/60\n",
      "640/640 [==============================] - 1s 2ms/sample - loss: 0.0041 - val_loss: 0.0064\n",
      "Epoch 54/60\n",
      "640/640 [==============================] - 1s 2ms/sample - loss: 0.0038 - val_loss: 0.0065\n",
      "Epoch 55/60\n",
      "640/640 [==============================] - 2s 2ms/sample - loss: 0.0038 - val_loss: 0.0064\n",
      "Epoch 56/60\n",
      "640/640 [==============================] - 2s 3ms/sample - loss: 0.0036 - val_loss: 0.0063\n",
      "Epoch 57/60\n",
      "640/640 [==============================] - 3s 4ms/sample - loss: 0.0036 - val_loss: 0.0066\n",
      "Epoch 58/60\n",
      "640/640 [==============================] - 2s 4ms/sample - loss: 0.0037 - val_loss: 0.0063\n",
      "Epoch 59/60\n",
      "640/640 [==============================] - 2s 3ms/sample - loss: 0.0035 - val_loss: 0.0063\n",
      "Epoch 60/60\n",
      "640/640 [==============================] - 2s 4ms/sample - loss: 0.0036 - val_loss: 0.0066\n"
     ]
    }
   ],
   "source": [
    "X = np.expand_dims(np.array(X), -1)\n",
    "y = np.array(y)\n",
    "N = len(X)\n",
    "\n",
    "i = tf.keras.layers.Input(shape=(X[0].shape))\n",
    "j = tf.keras.layers.LSTM(10)(i)\n",
    "j = tf.keras.layers.Dense(1)(j)\n",
    "\n",
    "model = tf.keras.models.Model(i, j)\n",
    "\n",
    "model.compile(optimizer=tf.keras.optimizers.Adam(lr=0.1), loss='mse')\n",
    "\n",
    "r = model.fit(X[:N//2], y[:N//2], validation_data = [X[N//2:], y[N//2:]], epochs=60)"
   ]
  },
  {
   "cell_type": "code",
   "execution_count": 116,
   "metadata": {},
   "outputs": [
    {
     "data": {
      "image/png": "[encoded data removed]",
      "text/plain": [
       "<Figure size 432x288 with 1 Axes>"
      ]
     },
     "metadata": {
      "needs_background": "light"
     },
     "output_type": "display_data"
    }
   ],
   "source": [
    "plt.plot(r.history['loss'], label='loss')\n",
    "plt.plot(r.history['val_loss'], label='val_loss')\n",
    "plt.legend()\n",
    "plt.show()"
   ]
  },
  {
   "cell_type": "code",
   "execution_count": 117,
   "metadata": {},
   "outputs": [
    {
     "data": {
      "image/png": "[encoded data removed]",
      "text/plain": [
       "<Figure size 432x288 with 1 Axes>"
      ]
     },
     "metadata": {
      "needs_background": "light"
     },
     "output_type": "display_data"
    }
   ],
   "source": [
    "#One-step preeiction\n",
    "\n",
    "y_hat = model.predict(X[N//2:])\n",
    "plt.plot(y_hat, label='predicted')\n",
    "plt.plot(y[N//2:], label='actual')\n",
    "plt.legend()\n",
    "plt.show()"
   ]
  },
  {
   "cell_type": "code",
   "execution_count": 118,
   "metadata": {},
   "outputs": [
    {
     "data": {
      "text/plain": [
       "0.08101776959985624"
      ]
     },
     "execution_count": 118,
     "metadata": {},
     "output_type": "execute_result"
    }
   ],
   "source": [
    "np.sqrt(mean_squared_error(y_hat, y[N//2:]))"
   ]
  },
  {
   "cell_type": "code",
   "execution_count": 119,
   "metadata": {},
   "outputs": [
    {
     "data": {
      "image/png": "[encoded data removed]",
      "text/plain": [
       "<Figure size 432x288 with 1 Axes>"
      ]
     },
     "metadata": {
      "needs_background": "light"
     },
     "output_type": "display_data"
    }
   ],
   "source": [
    "# Naive predictor\n",
    "\n",
    "y_hat = y[(N//2 - 1):-1]\n",
    "plt.plot(y_hat, label='predicted')\n",
    "plt.plot(y[N//2:], label='actual')\n",
    "plt.legend()\n",
    "plt.show()"
   ]
  },
  {
   "cell_type": "code",
   "execution_count": 120,
   "metadata": {},
   "outputs": [
    {
     "data": {
      "text/plain": [
       "0.12114098234185765"
      ]
     },
     "execution_count": 120,
     "metadata": {},
     "output_type": "execute_result"
    }
   ],
   "source": [
    "np.sqrt(mean_squared_error(y_hat, y[N//2:]))"
   ]
  },
  {
   "cell_type": "code",
   "execution_count": 169,
   "metadata": {},
   "outputs": [],
   "source": [
    "df['trend'] = np.sign(df['return']) \n",
    "df['trend'] = df['trend'].map({-1:0, 1:1, 0:0})"
   ]
  },
  {
   "cell_type": "code",
   "execution_count": 173,
   "metadata": {},
   "outputs": [],
   "source": [
    "df = df.drop(columns=['Date', 'Adj Close', 'previous_close', 'return'])"
   ]
  },
  {
   "cell_type": "code",
   "execution_count": 175,
   "metadata": {},
   "outputs": [],
   "source": [
    "df['future_trend'] = df['trend'].shift(1)"
   ]
  },
  {
   "cell_type": "code",
   "execution_count": 179,
   "metadata": {},
   "outputs": [],
   "source": [
    "df.dropna(inplace=True)\n",
    "df.drop(columns=['trend'], inplace=True)\n",
    "df['future_trend'] = df['future_trend'].apply(lambda x: int(x))"
   ]
  },
  {
   "cell_type": "code",
   "execution_count": 180,
   "metadata": {},
   "outputs": [
    {
     "data": {
      "text/html": [
       "<div>\n",
       "<style scoped>\n",
       "    .dataframe tbody tr th:only-of-type {\n",
       "        vertical-align: middle;\n",
       "    }\n",
       "\n",
       "    .dataframe tbody tr th {\n",
       "        vertical-align: top;\n",
       "    }\n",
       "\n",
       "    .dataframe thead th {\n",
       "        text-align: right;\n",
       "    }\n",
       "</style>\n",
       "<table border=\"1\" class=\"dataframe\">\n",
       "  <thead>\n",
       "    <tr style=\"text-align: right;\">\n",
       "      <th></th>\n",
       "      <th>Open</th>\n",
       "      <th>High</th>\n",
       "      <th>Low</th>\n",
       "      <th>Close</th>\n",
       "      <th>Volume</th>\n",
       "      <th>future_trend</th>\n",
       "    </tr>\n",
       "  </thead>\n",
       "  <tbody>\n",
       "    <tr>\n",
       "      <td>2</td>\n",
       "      <td>118.500000</td>\n",
       "      <td>120.510002</td>\n",
       "      <td>118.309998</td>\n",
       "      <td>119.559998</td>\n",
       "      <td>70149700</td>\n",
       "      <td>1</td>\n",
       "    </tr>\n",
       "    <tr>\n",
       "      <td>3</td>\n",
       "      <td>120.019997</td>\n",
       "      <td>120.230003</td>\n",
       "      <td>119.250000</td>\n",
       "      <td>119.940002</td>\n",
       "      <td>42246200</td>\n",
       "      <td>1</td>\n",
       "    </tr>\n",
       "    <tr>\n",
       "      <td>4</td>\n",
       "      <td>120.019997</td>\n",
       "      <td>120.250000</td>\n",
       "      <td>118.449997</td>\n",
       "      <td>118.930000</td>\n",
       "      <td>43706600</td>\n",
       "      <td>1</td>\n",
       "    </tr>\n",
       "    <tr>\n",
       "      <td>5</td>\n",
       "      <td>118.550003</td>\n",
       "      <td>119.839996</td>\n",
       "      <td>118.430000</td>\n",
       "      <td>119.720001</td>\n",
       "      <td>38889800</td>\n",
       "      <td>0</td>\n",
       "    </tr>\n",
       "    <tr>\n",
       "      <td>6</td>\n",
       "      <td>120.169998</td>\n",
       "      <td>122.150002</td>\n",
       "      <td>120.160004</td>\n",
       "      <td>122.019997</td>\n",
       "      <td>62008500</td>\n",
       "      <td>1</td>\n",
       "    </tr>\n",
       "    <tr>\n",
       "      <td>...</td>\n",
       "      <td>...</td>\n",
       "      <td>...</td>\n",
       "      <td>...</td>\n",
       "      <td>...</td>\n",
       "      <td>...</td>\n",
       "      <td>...</td>\n",
       "    </tr>\n",
       "    <tr>\n",
       "      <td>1287</td>\n",
       "      <td>264.890015</td>\n",
       "      <td>279.920013</td>\n",
       "      <td>252.949997</td>\n",
       "      <td>277.970001</td>\n",
       "      <td>92683000</td>\n",
       "      <td>0</td>\n",
       "    </tr>\n",
       "    <tr>\n",
       "      <td>1288</td>\n",
       "      <td>241.949997</td>\n",
       "      <td>259.079987</td>\n",
       "      <td>240.000000</td>\n",
       "      <td>242.210007</td>\n",
       "      <td>80605900</td>\n",
       "      <td>1</td>\n",
       "    </tr>\n",
       "    <tr>\n",
       "      <td>1289</td>\n",
       "      <td>247.509995</td>\n",
       "      <td>257.609985</td>\n",
       "      <td>238.399994</td>\n",
       "      <td>252.860001</td>\n",
       "      <td>81014000</td>\n",
       "      <td>0</td>\n",
       "    </tr>\n",
       "    <tr>\n",
       "      <td>1290</td>\n",
       "      <td>239.770004</td>\n",
       "      <td>250.000000</td>\n",
       "      <td>237.119995</td>\n",
       "      <td>246.669998</td>\n",
       "      <td>75058400</td>\n",
       "      <td>1</td>\n",
       "    </tr>\n",
       "    <tr>\n",
       "      <td>1291</td>\n",
       "      <td>247.389999</td>\n",
       "      <td>252.839996</td>\n",
       "      <td>242.610001</td>\n",
       "      <td>244.779999</td>\n",
       "      <td>67964300</td>\n",
       "      <td>0</td>\n",
       "    </tr>\n",
       "  </tbody>\n",
       "</table>\n",
       "<p>1290 rows × 6 columns</p>\n",
       "</div>"
      ],
      "text/plain": [
       "            Open        High         Low       Close    Volume  future_trend\n",
       "2     118.500000  120.510002  118.309998  119.559998  70149700             1\n",
       "3     120.019997  120.230003  119.250000  119.940002  42246200             1\n",
       "4     120.019997  120.250000  118.449997  118.930000  43706600             1\n",
       "5     118.550003  119.839996  118.430000  119.720001  38889800             0\n",
       "6     120.169998  122.150002  120.160004  122.019997  62008500             1\n",
       "...          ...         ...         ...         ...       ...           ...\n",
       "1287  264.890015  279.920013  252.949997  277.970001  92683000             0\n",
       "1288  241.949997  259.079987  240.000000  242.210007  80605900             1\n",
       "1289  247.509995  257.609985  238.399994  252.860001  81014000             0\n",
       "1290  239.770004  250.000000  237.119995  246.669998  75058400             1\n",
       "1291  247.389999  252.839996  242.610001  244.779999  67964300             0\n",
       "\n",
       "[1290 rows x 6 columns]"
      ]
     },
     "execution_count": 180,
     "metadata": {},
     "output_type": "execute_result"
    }
   ],
   "source": [
    "df"
   ]
  },
  {
   "cell_type": "code",
   "execution_count": 187,
   "metadata": {},
   "outputs": [],
   "source": [
    "X = scaler.fit_transform(df.iloc[:, :-1])\n",
    "y = np.array(df['future_trend'])"
   ]
  },
  {
   "cell_type": "code",
   "execution_count": 200,
   "metadata": {},
   "outputs": [
    {
     "name": "stdout",
     "output_type": "stream",
     "text": [
      "Model: \"model_19\"\n",
      "_________________________________________________________________\n",
      "Layer (type)                 Output Shape              Param #   \n",
      "=================================================================\n",
      "input_26 (InputLayer)        [(None, 5)]               0         \n",
      "_________________________________________________________________\n",
      "dense_30 (Dense)             (None, 10)                60        \n",
      "_________________________________________________________________\n",
      "dropout_6 (Dropout)          (None, 10)                0         \n",
      "_________________________________________________________________\n",
      "dense_31 (Dense)             (None, 1)                 11        \n",
      "=================================================================\n",
      "Total params: 71\n",
      "Trainable params: 71\n",
      "Non-trainable params: 0\n",
      "_________________________________________________________________\n"
     ]
    }
   ],
   "source": [
    "i = tf.keras.layers.Input(shape=(X.shape[1],))\n",
    "j = tf.keras.layers.Dense(10, activation='relu')(i)\n",
    "j = tf.keras.layers.Dropout(0.3)(j)\n",
    "j = tf.keras.layers.Dense(1, activation = 'sigmoid')(j)\n",
    "\n",
    "model = tf.keras.models.Model(i, j)\n",
    "model.compile(optimizer=tf.keras.optimizers.Adam(lr=0.01), loss=['binary_crossentropy'], metrics=['accuracy'])\n",
    "model.summary()"
   ]
  },
  {
   "cell_type": "code",
   "execution_count": 201,
   "metadata": {},
   "outputs": [
    {
     "name": "stdout",
     "output_type": "stream",
     "text": [
      "Train on 645 samples, validate on 645 samples\n",
      "Epoch 1/10\n",
      "645/645 [==============================] - 4s 7ms/sample - loss: 0.7487 - accuracy: 0.4853 - val_loss: 0.7357 - val_accuracy: 0.4543\n",
      "Epoch 2/10\n",
      "645/645 [==============================] - 1s 1ms/sample - loss: 0.7105 - accuracy: 0.5070 - val_loss: 0.7137 - val_accuracy: 0.4589\n",
      "Epoch 3/10\n",
      "645/645 [==============================] - 1s 1ms/sample - loss: 0.6953 - accuracy: 0.5147 - val_loss: 0.7024 - val_accuracy: 0.4558\n",
      "Epoch 4/10\n",
      "645/645 [==============================] - 1s 1ms/sample - loss: 0.6945 - accuracy: 0.5318 - val_loss: 0.6942 - val_accuracy: 0.5023\n",
      "Epoch 5/10\n",
      "645/645 [==============================] - 1s 1ms/sample - loss: 0.6926 - accuracy: 0.5209 - val_loss: 0.6924 - val_accuracy: 0.5333\n",
      "Epoch 6/10\n",
      "645/645 [==============================] - 1s 865us/sample - loss: 0.6926 - accuracy: 0.5271 - val_loss: 0.6906 - val_accuracy: 0.5364\n",
      "Epoch 7/10\n",
      "645/645 [==============================] - 1s 1ms/sample - loss: 0.6869 - accuracy: 0.5318 - val_loss: 0.6902 - val_accuracy: 0.5395\n",
      "Epoch 8/10\n",
      "645/645 [==============================] - 1s 911us/sample - loss: 0.6905 - accuracy: 0.5364 - val_loss: 0.6919 - val_accuracy: 0.5395\n",
      "Epoch 9/10\n",
      "645/645 [==============================] - 0s 599us/sample - loss: 0.6933 - accuracy: 0.5225 - val_loss: 0.6987 - val_accuracy: 0.5380\n",
      "Epoch 10/10\n",
      "645/645 [==============================] - 0s 761us/sample - loss: 0.6907 - accuracy: 0.5380 - val_loss: 0.7071 - val_accuracy: 0.5380\n"
     ]
    }
   ],
   "source": [
    "N = X.shape[0]\n",
    "r = model.fit(X[:N//2], y[:N//2], validation_data=(X[N//2:], y[N//2:]), epochs=10)"
   ]
  },
  {
   "cell_type": "code",
   "execution_count": 202,
   "metadata": {},
   "outputs": [
    {
     "data": {
      "image/png": "[encoded data removed]",
      "text/plain": [
       "<Figure size 432x288 with 1 Axes>"
      ]
     },
     "metadata": {
      "needs_background": "light"
     },
     "output_type": "display_data"
    }
   ],
   "source": [
    "plt.plot(r.history['loss'], label='loss')\n",
    "plt.plot(r.history['val_loss'], label='val_loss')\n",
    "plt.legend()\n",
    "plt.show()"
   ]
  },
  {
   "cell_type": "code",
   "execution_count": 203,
   "metadata": {},
   "outputs": [
    {
     "data": {
      "image/png": "[encoded data removed]",
      "text/plain": [
       "<Figure size 432x288 with 1 Axes>"
      ]
     },
     "metadata": {
      "needs_background": "light"
     },
     "output_type": "display_data"
    }
   ],
   "source": [
    "plt.plot(r.history['accuracy'], label='accuracy')\n",
    "plt.plot(r.history['val_accuracy'], label='val_accuracy')\n",
    "plt.legend()\n",
    "plt.show()"
   ]
  },
  {
   "cell_type": "code",
   "execution_count": 208,
   "metadata": {},
   "outputs": [
    {
     "data": {
      "text/plain": [
       "[0.7070948842884034, 0.5379845]"
      ]
     },
     "execution_count": 208,
     "metadata": {},
     "output_type": "execute_result"
    }
   ],
   "source": [
    "model.evaluate(X[N//2:], y[N//2:], verbose='quiet')"
   ]
  },
  {
   "cell_type": "code",
   "execution_count": 222,
   "metadata": {},
   "outputs": [
    {
     "data": {
      "text/plain": [
       "0.5224806201550387"
      ]
     },
     "execution_count": 222,
     "metadata": {},
     "output_type": "execute_result"
    }
   ],
   "source": [
    "# Naive predictor\n",
    "\n",
    "y_hat = np.random.choice([0, 1], N//2)\n",
    "(y_hat == y[N//2:]).astype(int).sum() / (N//2)"
   ]
  }
 ],
 "metadata": {
  "kernelspec": {
   "display_name": "Python 3",
   "language": "python",
   "name": "python3"
  },
  "language_info": {
   "codemirror_mode": {
    "name": "ipython",
    "version": 3
   },
   "file_extension": ".py",
   "mimetype": "text/x-python",
   "name": "python",
   "nbconvert_exporter": "python",
   "pygments_lexer": "ipython3",
   "version": "3.7.4"
  }
 },
 "nbformat": 4,
 "nbformat_minor": 2
}
