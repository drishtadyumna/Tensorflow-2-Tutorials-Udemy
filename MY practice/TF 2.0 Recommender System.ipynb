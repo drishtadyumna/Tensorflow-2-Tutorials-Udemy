{
  "nbformat": 4,
  "nbformat_minor": 0,
  "metadata": {
    "colab": {
      "name": "TF 2.0 Recommender System.ipynb",
      "provenance": [],
      "collapsed_sections": []
    },
    "kernelspec": {
      "name": "python3",
      "display_name": "Python 3"
    },
    "accelerator": "GPU"
  },
  "cells": [
    {
      "cell_type": "code",
      "metadata": {
        "id": "apRdeKk_mzqx",
        "colab_type": "code",
        "colab": {}
      },
      "source": [
        "import numpy as np\n",
        "import pandas as pd\n",
        "import matplotlib.pyplot as plt\n",
        "from sklearn.utils import shuffle"
      ],
      "execution_count": 0,
      "outputs": []
    },
    {
      "cell_type": "code",
      "metadata": {
        "id": "Wf5WpiAo6wJm",
        "colab_type": "code",
        "colab": {}
      },
      "source": [
        "from tensorflow.keras.layers import Input, Embedding, Concatenate, Flatten, Dense\n",
        "from tensorflow.keras.models import Model\n",
        "from tensorflow.keras.optimizers import SGD"
      ],
      "execution_count": 0,
      "outputs": []
    },
    {
      "cell_type": "code",
      "metadata": {
        "id": "jma_iYAV3YHA",
        "colab_type": "code",
        "outputId": "3667eeb0-1570-48a1-c71d-19505c4e14f9",
        "colab": {
          "base_uri": "https://localhost:8080/",
          "height": 204
        }
      },
      "source": [
        "!wget -nc http://files.grouplens.org/datasets/movielens/ml-20m.zip"
      ],
      "execution_count": 3,
      "outputs": [
        {
          "output_type": "stream",
          "text": [
            "--2020-06-04 12:45:25--  http://files.grouplens.org/datasets/movielens/ml-20m.zip\n",
            "Resolving files.grouplens.org (files.grouplens.org)... 128.101.65.152\n",
            "Connecting to files.grouplens.org (files.grouplens.org)|128.101.65.152|:80... connected.\n",
            "HTTP request sent, awaiting response... 200 OK\n",
            "Length: 198702078 (189M) [application/zip]\n",
            "Saving to: ‘ml-20m.zip’\n",
            "\n",
            "ml-20m.zip          100%[===================>] 189.50M  17.0MB/s    in 12s     \n",
            "\n",
            "2020-06-04 12:45:38 (15.4 MB/s) - ‘ml-20m.zip’ saved [198702078/198702078]\n",
            "\n"
          ],
          "name": "stdout"
        }
      ]
    },
    {
      "cell_type": "code",
      "metadata": {
        "id": "4kXrieYd3mHW",
        "colab_type": "code",
        "outputId": "6dc22fc3-a611-40d0-a098-09fe6c2f9ad6",
        "colab": {
          "base_uri": "https://localhost:8080/",
          "height": 170
        }
      },
      "source": [
        "!unzip -n ml-20m.zip"
      ],
      "execution_count": 4,
      "outputs": [
        {
          "output_type": "stream",
          "text": [
            "Archive:  ml-20m.zip\n",
            "   creating: ml-20m/\n",
            "  inflating: ml-20m/genome-scores.csv  \n",
            "  inflating: ml-20m/genome-tags.csv  \n",
            "  inflating: ml-20m/links.csv        \n",
            "  inflating: ml-20m/movies.csv       \n",
            "  inflating: ml-20m/ratings.csv      \n",
            "  inflating: ml-20m/README.txt       \n",
            "  inflating: ml-20m/tags.csv         \n"
          ],
          "name": "stdout"
        }
      ]
    },
    {
      "cell_type": "code",
      "metadata": {
        "id": "QoA1lgCx3ztL",
        "colab_type": "code",
        "colab": {}
      },
      "source": [
        "df = pd.read_csv('ml-20m/ratings.csv')"
      ],
      "execution_count": 0,
      "outputs": []
    },
    {
      "cell_type": "code",
      "metadata": {
        "id": "totKsqtM4CBb",
        "colab_type": "code",
        "outputId": "3c629972-eb89-44b9-8c4a-fa22118d638d",
        "colab": {
          "base_uri": "https://localhost:8080/",
          "height": 204
        }
      },
      "source": [
        "df.head()"
      ],
      "execution_count": 6,
      "outputs": [
        {
          "output_type": "execute_result",
          "data": {
            "text/html": [
              "<div>\n",
              "<style scoped>\n",
              "    .dataframe tbody tr th:only-of-type {\n",
              "        vertical-align: middle;\n",
              "    }\n",
              "\n",
              "    .dataframe tbody tr th {\n",
              "        vertical-align: top;\n",
              "    }\n",
              "\n",
              "    .dataframe thead th {\n",
              "        text-align: right;\n",
              "    }\n",
              "</style>\n",
              "<table border=\"1\" class=\"dataframe\">\n",
              "  <thead>\n",
              "    <tr style=\"text-align: right;\">\n",
              "      <th></th>\n",
              "      <th>userId</th>\n",
              "      <th>movieId</th>\n",
              "      <th>rating</th>\n",
              "      <th>timestamp</th>\n",
              "    </tr>\n",
              "  </thead>\n",
              "  <tbody>\n",
              "    <tr>\n",
              "      <th>0</th>\n",
              "      <td>1</td>\n",
              "      <td>2</td>\n",
              "      <td>3.5</td>\n",
              "      <td>1112486027</td>\n",
              "    </tr>\n",
              "    <tr>\n",
              "      <th>1</th>\n",
              "      <td>1</td>\n",
              "      <td>29</td>\n",
              "      <td>3.5</td>\n",
              "      <td>1112484676</td>\n",
              "    </tr>\n",
              "    <tr>\n",
              "      <th>2</th>\n",
              "      <td>1</td>\n",
              "      <td>32</td>\n",
              "      <td>3.5</td>\n",
              "      <td>1112484819</td>\n",
              "    </tr>\n",
              "    <tr>\n",
              "      <th>3</th>\n",
              "      <td>1</td>\n",
              "      <td>47</td>\n",
              "      <td>3.5</td>\n",
              "      <td>1112484727</td>\n",
              "    </tr>\n",
              "    <tr>\n",
              "      <th>4</th>\n",
              "      <td>1</td>\n",
              "      <td>50</td>\n",
              "      <td>3.5</td>\n",
              "      <td>1112484580</td>\n",
              "    </tr>\n",
              "  </tbody>\n",
              "</table>\n",
              "</div>"
            ],
            "text/plain": [
              "   userId  movieId  rating   timestamp\n",
              "0       1        2     3.5  1112486027\n",
              "1       1       29     3.5  1112484676\n",
              "2       1       32     3.5  1112484819\n",
              "3       1       47     3.5  1112484727\n",
              "4       1       50     3.5  1112484580"
            ]
          },
          "metadata": {
            "tags": []
          },
          "execution_count": 6
        }
      ]
    },
    {
      "cell_type": "code",
      "metadata": {
        "id": "iThW_1-_4Hdk",
        "colab_type": "code",
        "colab": {}
      },
      "source": [
        "df.userId = pd.Categorical(df.userId)\n",
        "df['new_user_id'] = df.userId.cat.codes"
      ],
      "execution_count": 0,
      "outputs": []
    },
    {
      "cell_type": "code",
      "metadata": {
        "id": "9YqtVHml4RvX",
        "colab_type": "code",
        "colab": {}
      },
      "source": [
        "df.movieId = pd.Categorical(df.movieId)\n",
        "df['new_movie_id'] = df.movieId.cat.codes"
      ],
      "execution_count": 0,
      "outputs": []
    },
    {
      "cell_type": "code",
      "metadata": {
        "id": "q1ysnsIl4XuH",
        "colab_type": "code",
        "outputId": "01646adc-cf0b-4522-99c2-1a70b7a46737",
        "colab": {
          "base_uri": "https://localhost:8080/",
          "height": 419
        }
      },
      "source": [
        "df"
      ],
      "execution_count": 9,
      "outputs": [
        {
          "output_type": "execute_result",
          "data": {
            "text/html": [
              "<div>\n",
              "<style scoped>\n",
              "    .dataframe tbody tr th:only-of-type {\n",
              "        vertical-align: middle;\n",
              "    }\n",
              "\n",
              "    .dataframe tbody tr th {\n",
              "        vertical-align: top;\n",
              "    }\n",
              "\n",
              "    .dataframe thead th {\n",
              "        text-align: right;\n",
              "    }\n",
              "</style>\n",
              "<table border=\"1\" class=\"dataframe\">\n",
              "  <thead>\n",
              "    <tr style=\"text-align: right;\">\n",
              "      <th></th>\n",
              "      <th>userId</th>\n",
              "      <th>movieId</th>\n",
              "      <th>rating</th>\n",
              "      <th>timestamp</th>\n",
              "      <th>new_user_id</th>\n",
              "      <th>new_movie_id</th>\n",
              "    </tr>\n",
              "  </thead>\n",
              "  <tbody>\n",
              "    <tr>\n",
              "      <th>0</th>\n",
              "      <td>1</td>\n",
              "      <td>2</td>\n",
              "      <td>3.5</td>\n",
              "      <td>1112486027</td>\n",
              "      <td>0</td>\n",
              "      <td>1</td>\n",
              "    </tr>\n",
              "    <tr>\n",
              "      <th>1</th>\n",
              "      <td>1</td>\n",
              "      <td>29</td>\n",
              "      <td>3.5</td>\n",
              "      <td>1112484676</td>\n",
              "      <td>0</td>\n",
              "      <td>28</td>\n",
              "    </tr>\n",
              "    <tr>\n",
              "      <th>2</th>\n",
              "      <td>1</td>\n",
              "      <td>32</td>\n",
              "      <td>3.5</td>\n",
              "      <td>1112484819</td>\n",
              "      <td>0</td>\n",
              "      <td>31</td>\n",
              "    </tr>\n",
              "    <tr>\n",
              "      <th>3</th>\n",
              "      <td>1</td>\n",
              "      <td>47</td>\n",
              "      <td>3.5</td>\n",
              "      <td>1112484727</td>\n",
              "      <td>0</td>\n",
              "      <td>46</td>\n",
              "    </tr>\n",
              "    <tr>\n",
              "      <th>4</th>\n",
              "      <td>1</td>\n",
              "      <td>50</td>\n",
              "      <td>3.5</td>\n",
              "      <td>1112484580</td>\n",
              "      <td>0</td>\n",
              "      <td>49</td>\n",
              "    </tr>\n",
              "    <tr>\n",
              "      <th>...</th>\n",
              "      <td>...</td>\n",
              "      <td>...</td>\n",
              "      <td>...</td>\n",
              "      <td>...</td>\n",
              "      <td>...</td>\n",
              "      <td>...</td>\n",
              "    </tr>\n",
              "    <tr>\n",
              "      <th>20000258</th>\n",
              "      <td>138493</td>\n",
              "      <td>68954</td>\n",
              "      <td>4.5</td>\n",
              "      <td>1258126920</td>\n",
              "      <td>138492</td>\n",
              "      <td>13754</td>\n",
              "    </tr>\n",
              "    <tr>\n",
              "      <th>20000259</th>\n",
              "      <td>138493</td>\n",
              "      <td>69526</td>\n",
              "      <td>4.5</td>\n",
              "      <td>1259865108</td>\n",
              "      <td>138492</td>\n",
              "      <td>13862</td>\n",
              "    </tr>\n",
              "    <tr>\n",
              "      <th>20000260</th>\n",
              "      <td>138493</td>\n",
              "      <td>69644</td>\n",
              "      <td>3.0</td>\n",
              "      <td>1260209457</td>\n",
              "      <td>138492</td>\n",
              "      <td>13875</td>\n",
              "    </tr>\n",
              "    <tr>\n",
              "      <th>20000261</th>\n",
              "      <td>138493</td>\n",
              "      <td>70286</td>\n",
              "      <td>5.0</td>\n",
              "      <td>1258126944</td>\n",
              "      <td>138492</td>\n",
              "      <td>13993</td>\n",
              "    </tr>\n",
              "    <tr>\n",
              "      <th>20000262</th>\n",
              "      <td>138493</td>\n",
              "      <td>71619</td>\n",
              "      <td>2.5</td>\n",
              "      <td>1255811136</td>\n",
              "      <td>138492</td>\n",
              "      <td>14277</td>\n",
              "    </tr>\n",
              "  </tbody>\n",
              "</table>\n",
              "<p>20000263 rows × 6 columns</p>\n",
              "</div>"
            ],
            "text/plain": [
              "          userId movieId  rating   timestamp  new_user_id  new_movie_id\n",
              "0              1       2     3.5  1112486027            0             1\n",
              "1              1      29     3.5  1112484676            0            28\n",
              "2              1      32     3.5  1112484819            0            31\n",
              "3              1      47     3.5  1112484727            0            46\n",
              "4              1      50     3.5  1112484580            0            49\n",
              "...          ...     ...     ...         ...          ...           ...\n",
              "20000258  138493   68954     4.5  1258126920       138492         13754\n",
              "20000259  138493   69526     4.5  1259865108       138492         13862\n",
              "20000260  138493   69644     3.0  1260209457       138492         13875\n",
              "20000261  138493   70286     5.0  1258126944       138492         13993\n",
              "20000262  138493   71619     2.5  1255811136       138492         14277\n",
              "\n",
              "[20000263 rows x 6 columns]"
            ]
          },
          "metadata": {
            "tags": []
          },
          "execution_count": 9
        }
      ]
    },
    {
      "cell_type": "code",
      "metadata": {
        "id": "uQFgSynU4zcD",
        "colab_type": "code",
        "colab": {}
      },
      "source": [
        "user_ids = df['new_user_id'].values\n",
        "movie_ids = df['new_movie_id'].values\n",
        "ratings = df['rating'].values"
      ],
      "execution_count": 0,
      "outputs": []
    },
    {
      "cell_type": "code",
      "metadata": {
        "id": "IVQ4tess5tMM",
        "colab_type": "code",
        "outputId": "704fdb23-68a5-4d3b-fd9c-9964816b1711",
        "colab": {
          "base_uri": "https://localhost:8080/",
          "height": 34
        }
      },
      "source": [
        "user_ids"
      ],
      "execution_count": 11,
      "outputs": [
        {
          "output_type": "execute_result",
          "data": {
            "text/plain": [
              "array([     0,      0,      0, ..., 138492, 138492, 138492], dtype=int32)"
            ]
          },
          "metadata": {
            "tags": []
          },
          "execution_count": 11
        }
      ]
    },
    {
      "cell_type": "code",
      "metadata": {
        "id": "PQdjbYav5v6u",
        "colab_type": "code",
        "outputId": "e753f3a5-5962-451c-9798-9eda58a0ec4d",
        "colab": {
          "base_uri": "https://localhost:8080/",
          "height": 34
        }
      },
      "source": [
        "N = len(set(user_ids))\n",
        "M = len(set(movie_ids))\n",
        "\n",
        "K = 10 #setting embedding diemnsion\n",
        "\n",
        "N, M"
      ],
      "execution_count": 12,
      "outputs": [
        {
          "output_type": "execute_result",
          "data": {
            "text/plain": [
              "(138493, 26744)"
            ]
          },
          "metadata": {
            "tags": []
          },
          "execution_count": 12
        }
      ]
    },
    {
      "cell_type": "code",
      "metadata": {
        "id": "dBEsCbSH6eiW",
        "colab_type": "code",
        "colab": {}
      },
      "source": [
        "#User input\n",
        "u = Input(shape=(1,))\n",
        "\n",
        "#Movie input\n",
        "m = Input(shape=(1,))\n",
        "\n",
        "#user_embedding\n",
        "u_emb = Embedding(N, K)(u)\n",
        "\n",
        "#movie_embedding\n",
        "m_emb = Embedding(M, K)(m)\n",
        "\n",
        "#Flatten both embeddings\n",
        "u_emb = Flatten()(u_emb)\n",
        "m_emb = Flatten()(m_emb)\n",
        "\n",
        "#Concatenate user-movie embeddings into a feature vector\n",
        "x = Concatenate()([u_emb, m_emb])\n",
        "\n",
        "x =  Dense(1024, activation='relu')(x)\n",
        "x = Dense(1)(x)\n",
        "\n",
        "model = Model(inputs=[u, m], outputs=x)"
      ],
      "execution_count": 0,
      "outputs": []
    },
    {
      "cell_type": "code",
      "metadata": {
        "id": "11qV92Rm87qY",
        "colab_type": "code",
        "outputId": "5731d278-ae4e-4c62-8cac-65f83c7610b7",
        "colab": {
          "base_uri": "https://localhost:8080/",
          "height": 476
        }
      },
      "source": [
        "model.summary()"
      ],
      "execution_count": 14,
      "outputs": [
        {
          "output_type": "stream",
          "text": [
            "Model: \"model\"\n",
            "__________________________________________________________________________________________________\n",
            "Layer (type)                    Output Shape         Param #     Connected to                     \n",
            "==================================================================================================\n",
            "input_1 (InputLayer)            [(None, 1)]          0                                            \n",
            "__________________________________________________________________________________________________\n",
            "input_2 (InputLayer)            [(None, 1)]          0                                            \n",
            "__________________________________________________________________________________________________\n",
            "embedding (Embedding)           (None, 1, 10)        1384930     input_1[0][0]                    \n",
            "__________________________________________________________________________________________________\n",
            "embedding_1 (Embedding)         (None, 1, 10)        267440      input_2[0][0]                    \n",
            "__________________________________________________________________________________________________\n",
            "flatten (Flatten)               (None, 10)           0           embedding[0][0]                  \n",
            "__________________________________________________________________________________________________\n",
            "flatten_1 (Flatten)             (None, 10)           0           embedding_1[0][0]                \n",
            "__________________________________________________________________________________________________\n",
            "concatenate (Concatenate)       (None, 20)           0           flatten[0][0]                    \n",
            "                                                                 flatten_1[0][0]                  \n",
            "__________________________________________________________________________________________________\n",
            "dense (Dense)                   (None, 1024)         21504       concatenate[0][0]                \n",
            "__________________________________________________________________________________________________\n",
            "dense_1 (Dense)                 (None, 1)            1025        dense[0][0]                      \n",
            "==================================================================================================\n",
            "Total params: 1,674,899\n",
            "Trainable params: 1,674,899\n",
            "Non-trainable params: 0\n",
            "__________________________________________________________________________________________________\n"
          ],
          "name": "stdout"
        }
      ]
    },
    {
      "cell_type": "code",
      "metadata": {
        "id": "OJPgakbo9CaA",
        "colab_type": "code",
        "colab": {}
      },
      "source": [
        "model.compile(loss='mse', optimizer=SGD(lr=0.08, momentum=0.9))"
      ],
      "execution_count": 0,
      "outputs": []
    },
    {
      "cell_type": "code",
      "metadata": {
        "id": "vuhdliNjGrtj",
        "colab_type": "code",
        "colab": {}
      },
      "source": [
        "user_ids, movie_ids, ratings = shuffle(user_ids, movie_ids, ratings)"
      ],
      "execution_count": 0,
      "outputs": []
    },
    {
      "cell_type": "code",
      "metadata": {
        "id": "kXJ50qUITOzq",
        "colab_type": "code",
        "colab": {}
      },
      "source": [
        "Ntrain = int(0.8*len(ratings))"
      ],
      "execution_count": 0,
      "outputs": []
    },
    {
      "cell_type": "code",
      "metadata": {
        "id": "FlDZDKjBT5-J",
        "colab_type": "code",
        "colab": {}
      },
      "source": [
        "train_user = user_ids[:Ntrain]\n",
        "train_movie = movie_ids[:Ntrain]\n",
        "train_ratings = ratings[:Ntrain]\n",
        "\n",
        "test_user = user_ids[Ntrain:]\n",
        "test_movie = movie_ids[Ntrain:]\n",
        "test_ratings = ratings[Ntrain:]"
      ],
      "execution_count": 0,
      "outputs": []
    },
    {
      "cell_type": "code",
      "metadata": {
        "id": "dTXw9O8UUh1G",
        "colab_type": "code",
        "colab": {}
      },
      "source": [
        "# center the ratings\n",
        "avg_rating = train_ratings.mean()\n",
        "train_ratings = train_ratings - avg_rating\n",
        "test_ratings = test_ratings - avg_rating"
      ],
      "execution_count": 0,
      "outputs": []
    },
    {
      "cell_type": "code",
      "metadata": {
        "id": "GRKZH7nhVWlz",
        "colab_type": "code",
        "colab": {
          "base_uri": "https://localhost:8080/",
          "height": 867
        },
        "outputId": "7a1f2c2e-5594-4010-88c0-f724972c1c29"
      },
      "source": [
        "r = model.fit( x=[train_user, train_movie], y=train_ratings, epochs=25, batch_size=1024, verbose=2, validation_data=([test_user, test_movie], test_ratings))"
      ],
      "execution_count": 20,
      "outputs": [
        {
          "output_type": "stream",
          "text": [
            "Epoch 1/25\n",
            "15626/15626 - 84s - loss: 0.7782 - val_loss: 0.7202\n",
            "Epoch 2/25\n",
            "15626/15626 - 86s - loss: 0.7011 - val_loss: 0.6968\n",
            "Epoch 3/25\n",
            "15626/15626 - 84s - loss: 0.6787 - val_loss: 0.6832\n",
            "Epoch 4/25\n",
            "15626/15626 - 84s - loss: 0.6632 - val_loss: 0.6750\n",
            "Epoch 5/25\n",
            "15626/15626 - 85s - loss: 0.6521 - val_loss: 0.6712\n",
            "Epoch 6/25\n",
            "15626/15626 - 84s - loss: 0.6393 - val_loss: 0.6584\n",
            "Epoch 7/25\n",
            "15626/15626 - 83s - loss: 0.6228 - val_loss: 0.6487\n",
            "Epoch 8/25\n",
            "15626/15626 - 84s - loss: 0.6096 - val_loss: 0.6426\n",
            "Epoch 9/25\n",
            "15626/15626 - 85s - loss: 0.5999 - val_loss: 0.6385\n",
            "Epoch 10/25\n",
            "15626/15626 - 83s - loss: 0.5909 - val_loss: 0.6362\n",
            "Epoch 11/25\n",
            "15626/15626 - 82s - loss: 0.5820 - val_loss: 0.6364\n",
            "Epoch 12/25\n",
            "15626/15626 - 83s - loss: 0.5738 - val_loss: 0.6319\n",
            "Epoch 13/25\n",
            "15626/15626 - 87s - loss: 0.5666 - val_loss: 0.6304\n",
            "Epoch 14/25\n",
            "15626/15626 - 85s - loss: 0.5602 - val_loss: 0.6253\n",
            "Epoch 15/25\n",
            "15626/15626 - 86s - loss: 0.5547 - val_loss: 0.6233\n",
            "Epoch 16/25\n",
            "15626/15626 - 87s - loss: 0.5503 - val_loss: 0.6232\n",
            "Epoch 17/25\n",
            "15626/15626 - 85s - loss: 0.5466 - val_loss: 0.6227\n",
            "Epoch 18/25\n",
            "15626/15626 - 84s - loss: 0.5434 - val_loss: 0.6245\n",
            "Epoch 19/25\n",
            "15626/15626 - 84s - loss: 0.5407 - val_loss: 0.6237\n",
            "Epoch 20/25\n",
            "15626/15626 - 85s - loss: 0.5383 - val_loss: 0.6235\n",
            "Epoch 21/25\n",
            "15626/15626 - 85s - loss: 0.5362 - val_loss: 0.6267\n",
            "Epoch 22/25\n",
            "15626/15626 - 84s - loss: 0.5344 - val_loss: 0.6266\n",
            "Epoch 23/25\n",
            "15626/15626 - 85s - loss: 0.5327 - val_loss: 0.6241\n",
            "Epoch 24/25\n",
            "15626/15626 - 86s - loss: 0.5311 - val_loss: 0.6279\n",
            "Epoch 25/25\n",
            "15626/15626 - 86s - loss: 0.5298 - val_loss: 0.6244\n"
          ],
          "name": "stdout"
        }
      ]
    },
    {
      "cell_type": "code",
      "metadata": {
        "id": "rLOlcQ8eX-5o",
        "colab_type": "code",
        "colab": {}
      },
      "source": [
        "plt.plot(r.history['loss'], label='train_loss')\n",
        "plt.plot(r.history['val_loss'], label='val_loss')\n",
        "plt.legend()\n",
        "plt.show()"
      ],
      "execution_count": 0,
      "outputs": []
    },
    {
      "cell_type": "code",
      "metadata": {
        "id": "KZXc9m_0Y5Ve",
        "colab_type": "code",
        "colab": {
          "base_uri": "https://localhost:8080/",
          "height": 34
        },
        "outputId": "7bcb6578-db61-46c7-df11-c020bca8cb49"
      },
      "source": [
        "np.sqrt(0.6244)"
      ],
      "execution_count": 21,
      "outputs": [
        {
          "output_type": "execute_result",
          "data": {
            "text/plain": [
              "0.7901898506055364"
            ]
          },
          "metadata": {
            "tags": []
          },
          "execution_count": 21
        }
      ]
    },
    {
      "cell_type": "code",
      "metadata": {
        "id": "jAc3ePf8k9zR",
        "colab_type": "code",
        "colab": {
          "base_uri": "https://localhost:8080/",
          "height": 34
        },
        "outputId": "7a689f5e-5cdf-449c-c2a9-3a065d5f6878"
      },
      "source": [
        "avg_rating"
      ],
      "execution_count": 22,
      "outputs": [
        {
          "output_type": "execute_result",
          "data": {
            "text/plain": [
              "3.5254539784165333"
            ]
          },
          "metadata": {
            "tags": []
          },
          "execution_count": 22
        }
      ]
    }
  ]
}