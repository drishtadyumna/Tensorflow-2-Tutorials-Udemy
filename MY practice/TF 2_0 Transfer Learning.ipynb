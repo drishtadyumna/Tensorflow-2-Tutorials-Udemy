{
  "nbformat": 4,
  "nbformat_minor": 0,
  "metadata": {
    "colab": {
      "name": "TF 2.0 Transfer Learning.ipynb",
      "provenance": []
    },
    "kernelspec": {
      "name": "python3",
      "display_name": "Python 3"
    },
    "accelerator": "GPU"
  },
  "cells": [
    {
      "cell_type": "code",
      "metadata": {
        "id": "-JuNiUKZiOlL",
        "colab_type": "code",
        "colab": {}
      },
      "source": [
        "from tensorflow.keras.layers import Input, Dense, Flatten\n",
        "from tensorflow.keras.models import Model\n",
        "from tensorflow.keras.optimizers import SGD, Adam\n",
        "from tensorflow.keras.applications.vgg16 import VGG16 as PretrainedModel, preprocess_input\n",
        "from tensorflow.keras.preprocessing import image\n",
        "from tensorflow.keras.preprocessing.image import ImageDataGenerator\n",
        "\n",
        "from glob import glob\n",
        "\n",
        "import pandas as pd\n",
        "import numpy as np\n",
        "import matplotlib.pyplot as plt"
      ],
      "execution_count": 0,
      "outputs": []
    },
    {
      "cell_type": "code",
      "metadata": {
        "id": "wSglZh1ZyyDY",
        "colab_type": "code",
        "colab": {
          "base_uri": "https://localhost:8080/",
          "height": 102
        },
        "outputId": "814b0fb3-d255-4f90-8f9b-7fcd16963b31"
      },
      "source": [
        "import gdown\n",
        "\n",
        "url = 'https://drive.google.com/uc?id=10Am0DNwjvZrZeiDIg5V2WNdTcQOTOmNY'\n",
        "\n",
        "output = 'food5k.zip'\n",
        "\n",
        "gdown.download(url, output, quiet=False)"
      ],
      "execution_count": 2,
      "outputs": [
        {
          "output_type": "stream",
          "text": [
            "Downloading...\n",
            "From: https://drive.google.com/uc?id=10Am0DNwjvZrZeiDIg5V2WNdTcQOTOmNY\n",
            "To: /content/food5k.zip\n",
            "894MB [00:04, 188MB/s]\n"
          ],
          "name": "stderr"
        },
        {
          "output_type": "execute_result",
          "data": {
            "text/plain": [
              "'food5k.zip'"
            ]
          },
          "metadata": {
            "tags": []
          },
          "execution_count": 2
        }
      ]
    },
    {
      "cell_type": "code",
      "metadata": {
        "id": "KBhP4DztT7eI",
        "colab_type": "code",
        "colab": {}
      },
      "source": [
        "!unzip -qq -o food5k.zip"
      ],
      "execution_count": 0,
      "outputs": []
    },
    {
      "cell_type": "code",
      "metadata": {
        "id": "ak1v7lxoT-Es",
        "colab_type": "code",
        "colab": {
          "base_uri": "https://localhost:8080/",
          "height": 34
        },
        "outputId": "c252548b-eb3d-4f0e-d556-b75e9ffb0c6d"
      },
      "source": [
        "%cd Food-5K"
      ],
      "execution_count": 4,
      "outputs": [
        {
          "output_type": "stream",
          "text": [
            "/content/Food-5K\n"
          ],
          "name": "stdout"
        }
      ]
    },
    {
      "cell_type": "code",
      "metadata": {
        "id": "aGCPthghUDjC",
        "colab_type": "code",
        "colab": {}
      },
      "source": [
        "!mkdir data"
      ],
      "execution_count": 0,
      "outputs": []
    },
    {
      "cell_type": "code",
      "metadata": {
        "id": "sTtoCnlMUIMa",
        "colab_type": "code",
        "colab": {}
      },
      "source": [
        "!mkdir data/train\n",
        "!mkdir data/test\n",
        "!mkdir data/train/nonfood\n",
        "!mkdir data/train/food\n",
        "!mkdir data/test/nonfood\n",
        "!mkdir data/test/food"
      ],
      "execution_count": 0,
      "outputs": []
    },
    {
      "cell_type": "code",
      "metadata": {
        "id": "BvSAdvRxUOxH",
        "colab_type": "code",
        "colab": {}
      },
      "source": [
        "!mv training/0*.jpg data/train/nonfood\n",
        "!mv training/1*.jpg data/train/food\n",
        "!mv validation/0*.jpg data/test/nonfood\n",
        "!mv validation/1*.jpg data/test/food"
      ],
      "execution_count": 0,
      "outputs": []
    },
    {
      "cell_type": "code",
      "metadata": {
        "id": "DSefInAJzTk8",
        "colab_type": "code",
        "colab": {}
      },
      "source": [
        "IMAGE_SIZE = [200, 200]"
      ],
      "execution_count": 0,
      "outputs": []
    },
    {
      "cell_type": "code",
      "metadata": {
        "id": "9SnbqOkfz-cG",
        "colab_type": "code",
        "colab": {}
      },
      "source": [
        "train_path = 'data/train'\n",
        "valid_path = 'data/test'"
      ],
      "execution_count": 0,
      "outputs": []
    },
    {
      "cell_type": "code",
      "metadata": {
        "id": "wa3NyGAK0OwW",
        "colab_type": "code",
        "colab": {}
      },
      "source": [
        "train_image_files = glob(train_path + '/*/*.jpg')\n",
        "valid_image_files = glob(valid_path + '/*/*.jpg')"
      ],
      "execution_count": 0,
      "outputs": []
    },
    {
      "cell_type": "code",
      "metadata": {
        "id": "4YcCEOcC0hmv",
        "colab_type": "code",
        "colab": {}
      },
      "source": [
        "folders = glob(train_path + '/*')"
      ],
      "execution_count": 0,
      "outputs": []
    },
    {
      "cell_type": "code",
      "metadata": {
        "id": "481bsi0s0pxX",
        "colab_type": "code",
        "colab": {
          "base_uri": "https://localhost:8080/",
          "height": 71
        },
        "outputId": "7cfc7ad1-81d1-41d3-b1aa-c02c36f3ad3e"
      },
      "source": [
        "ptm = PretrainedModel(\n",
        "    input_shape = IMAGE_SIZE + [3],\n",
        "    weights = 'imagenet',\n",
        "    include_top = False\n",
        ")"
      ],
      "execution_count": 12,
      "outputs": [
        {
          "output_type": "stream",
          "text": [
            "Downloading data from https://storage.googleapis.com/tensorflow/keras-applications/vgg16/vgg16_weights_tf_dim_ordering_tf_kernels_notop.h5\n",
            "58892288/58889256 [==============================] - 1s 0us/step\n"
          ],
          "name": "stdout"
        }
      ]
    },
    {
      "cell_type": "code",
      "metadata": {
        "id": "HDF1MRqP09ll",
        "colab_type": "code",
        "colab": {}
      },
      "source": [
        "x = Flatten()(ptm.output)"
      ],
      "execution_count": 0,
      "outputs": []
    },
    {
      "cell_type": "code",
      "metadata": {
        "id": "mzQ4KxCi1DWz",
        "colab_type": "code",
        "colab": {}
      },
      "source": [
        "model = Model(inputs=ptm.input, outputs=x)"
      ],
      "execution_count": 0,
      "outputs": []
    },
    {
      "cell_type": "code",
      "metadata": {
        "id": "qZfoo8hU1Pzm",
        "colab_type": "code",
        "colab": {
          "base_uri": "https://localhost:8080/",
          "height": 833
        },
        "outputId": "269d67eb-a5e6-4b55-8948-e2518aba627d"
      },
      "source": [
        "model.summary()"
      ],
      "execution_count": 15,
      "outputs": [
        {
          "output_type": "stream",
          "text": [
            "Model: \"model\"\n",
            "_________________________________________________________________\n",
            "Layer (type)                 Output Shape              Param #   \n",
            "=================================================================\n",
            "input_1 (InputLayer)         [(None, 200, 200, 3)]     0         \n",
            "_________________________________________________________________\n",
            "block1_conv1 (Conv2D)        (None, 200, 200, 64)      1792      \n",
            "_________________________________________________________________\n",
            "block1_conv2 (Conv2D)        (None, 200, 200, 64)      36928     \n",
            "_________________________________________________________________\n",
            "block1_pool (MaxPooling2D)   (None, 100, 100, 64)      0         \n",
            "_________________________________________________________________\n",
            "block2_conv1 (Conv2D)        (None, 100, 100, 128)     73856     \n",
            "_________________________________________________________________\n",
            "block2_conv2 (Conv2D)        (None, 100, 100, 128)     147584    \n",
            "_________________________________________________________________\n",
            "block2_pool (MaxPooling2D)   (None, 50, 50, 128)       0         \n",
            "_________________________________________________________________\n",
            "block3_conv1 (Conv2D)        (None, 50, 50, 256)       295168    \n",
            "_________________________________________________________________\n",
            "block3_conv2 (Conv2D)        (None, 50, 50, 256)       590080    \n",
            "_________________________________________________________________\n",
            "block3_conv3 (Conv2D)        (None, 50, 50, 256)       590080    \n",
            "_________________________________________________________________\n",
            "block3_pool (MaxPooling2D)   (None, 25, 25, 256)       0         \n",
            "_________________________________________________________________\n",
            "block4_conv1 (Conv2D)        (None, 25, 25, 512)       1180160   \n",
            "_________________________________________________________________\n",
            "block4_conv2 (Conv2D)        (None, 25, 25, 512)       2359808   \n",
            "_________________________________________________________________\n",
            "block4_conv3 (Conv2D)        (None, 25, 25, 512)       2359808   \n",
            "_________________________________________________________________\n",
            "block4_pool (MaxPooling2D)   (None, 12, 12, 512)       0         \n",
            "_________________________________________________________________\n",
            "block5_conv1 (Conv2D)        (None, 12, 12, 512)       2359808   \n",
            "_________________________________________________________________\n",
            "block5_conv2 (Conv2D)        (None, 12, 12, 512)       2359808   \n",
            "_________________________________________________________________\n",
            "block5_conv3 (Conv2D)        (None, 12, 12, 512)       2359808   \n",
            "_________________________________________________________________\n",
            "block5_pool (MaxPooling2D)   (None, 6, 6, 512)         0         \n",
            "_________________________________________________________________\n",
            "flatten (Flatten)            (None, 18432)             0         \n",
            "=================================================================\n",
            "Total params: 14,714,688\n",
            "Trainable params: 14,714,688\n",
            "Non-trainable params: 0\n",
            "_________________________________________________________________\n"
          ],
          "name": "stdout"
        }
      ]
    },
    {
      "cell_type": "code",
      "metadata": {
        "id": "Mqo9xZcn1TQv",
        "colab_type": "code",
        "colab": {}
      },
      "source": [
        "gen = ImageDataGenerator(preprocessing_function=preprocess_input)"
      ],
      "execution_count": 0,
      "outputs": []
    },
    {
      "cell_type": "code",
      "metadata": {
        "id": "26gRXYwKE5q3",
        "colab_type": "code",
        "colab": {
          "base_uri": "https://localhost:8080/",
          "height": 51
        },
        "outputId": "2027151b-401e-4eae-e65b-d91b5032cf0a"
      },
      "source": [
        "batch_size = 128\n",
        "train_generator = gen.flow_from_directory(\n",
        "    train_path,\n",
        "    target_size=IMAGE_SIZE,\n",
        "    batch_size=batch_size,\n",
        "    class_mode='binary'\n",
        ")\n",
        "\n",
        "valid_generator = gen.flow_from_directory(\n",
        "    valid_path,\n",
        "    target_size=IMAGE_SIZE,\n",
        "    batch_size=batch_size,\n",
        "    class_mode='binary'\n",
        ")"
      ],
      "execution_count": 17,
      "outputs": [
        {
          "output_type": "stream",
          "text": [
            "Found 3000 images belonging to 2 classes.\n",
            "Found 1000 images belonging to 2 classes.\n"
          ],
          "name": "stdout"
        }
      ]
    },
    {
      "cell_type": "code",
      "metadata": {
        "id": "WyafGOxDFfMT",
        "colab_type": "code",
        "colab": {}
      },
      "source": [
        "Ntrain = len(train_image_files)\n",
        "Nvalid = len(valid_image_files)\n",
        "\n",
        "feat = model.predict(np.random.random([1] + IMAGE_SIZE + [3]))\n",
        "D = feat.shape[1]\n",
        "\n",
        "X_train = np.zeros((Ntrain, D))\n",
        "Y_train = np.zeros(Ntrain)\n",
        "X_valid = np.zeros((Ntrain, D))\n",
        "Y_valid = np.zeros(Ntrain)"
      ],
      "execution_count": 0,
      "outputs": []
    },
    {
      "cell_type": "code",
      "metadata": {
        "id": "vccWXU5-GRKF",
        "colab_type": "code",
        "colab": {
          "base_uri": "https://localhost:8080/",
          "height": 442
        },
        "outputId": "733ae918-86f4-45d3-c1ff-30aad38684cb"
      },
      "source": [
        "#Populate X_train and Y_train\n",
        "i = 0\n",
        "for x, y in train_generator:\n",
        "  features = model.predict(x)\n",
        "\n",
        "  #size of the batch(may not always be batch_size)\n",
        "  sz = len(y)\n",
        "\n",
        "  #Assign to X_train and Y_train\n",
        "  X_train[i : i+sz] = features\n",
        "  Y_train[i : i+sz] = y\n",
        "\n",
        "  #increment i\n",
        "  i += sz\n",
        "  print(i)\n",
        "\n",
        "  if i>= Ntrain:\n",
        "    print('breaking now')\n",
        "    break\n",
        "    print(i)"
      ],
      "execution_count": 19,
      "outputs": [
        {
          "output_type": "stream",
          "text": [
            "128\n",
            "256\n",
            "384\n",
            "512\n",
            "640\n",
            "768\n",
            "896\n",
            "1024\n",
            "1152\n",
            "1280\n",
            "1408\n",
            "1536\n",
            "1664\n",
            "1792\n",
            "1920\n",
            "2048\n",
            "2176\n",
            "2304\n",
            "2432\n",
            "2560\n",
            "2688\n",
            "2816\n",
            "2944\n",
            "3000\n",
            "breaking now\n"
          ],
          "name": "stdout"
        }
      ]
    },
    {
      "cell_type": "code",
      "metadata": {
        "id": "_7gICDm7MLRv",
        "colab_type": "code",
        "colab": {
          "base_uri": "https://localhost:8080/",
          "height": 170
        },
        "outputId": "e980c917-2b6a-436f-c181-c465a4147640"
      },
      "source": [
        "#Populate X_valid and Y_valid\n",
        "i = 0\n",
        "for x, y in valid_generator:\n",
        "  features = model.predict(x)\n",
        "\n",
        "  #size of the batch(may not always be batch_size)\n",
        "  sz = len(y)\n",
        "\n",
        "  #Assign to X_train and Y_train\n",
        "  X_valid[i : i+sz] = features\n",
        "  Y_valid[i : i+sz] = y\n",
        "\n",
        "  #increment i\n",
        "  i += sz\n",
        "  print(i)\n",
        "\n",
        "  if i>= Nvalid:\n",
        "    print('breaking now')\n",
        "    break\n",
        "    print(i)"
      ],
      "execution_count": 20,
      "outputs": [
        {
          "output_type": "stream",
          "text": [
            "128\n",
            "256\n",
            "384\n",
            "512\n",
            "640\n",
            "768\n",
            "896\n",
            "1000\n",
            "breaking now\n"
          ],
          "name": "stdout"
        }
      ]
    },
    {
      "cell_type": "code",
      "metadata": {
        "id": "PLhOdM3zOY3G",
        "colab_type": "code",
        "outputId": "da23718a-6458-4fa7-9b0c-979705b402b8",
        "colab": {
          "base_uri": "https://localhost:8080/",
          "height": 34
        }
      },
      "source": [
        "X_train.max(), X_train.min()"
      ],
      "execution_count": 21,
      "outputs": [
        {
          "output_type": "execute_result",
          "data": {
            "text/plain": [
              "(650.8261108398438, 0.0)"
            ]
          },
          "metadata": {
            "tags": []
          },
          "execution_count": 21
        }
      ]
    },
    {
      "cell_type": "code",
      "metadata": {
        "id": "fbcW9JjDOzLF",
        "colab_type": "code",
        "colab": {}
      },
      "source": [
        "from sklearn.preprocessing import StandardScaler\n",
        "scaler = StandardScaler()\n",
        "X_train2 = scaler.fit_transform(X_train)\n",
        "X_valid2 = scaler.fit_transform(X_valid)"
      ],
      "execution_count": 0,
      "outputs": []
    },
    {
      "cell_type": "code",
      "metadata": {
        "id": "oHM81R62X20j",
        "colab_type": "code",
        "colab": {
          "base_uri": "https://localhost:8080/",
          "height": 51
        },
        "outputId": "354315c9-91c4-4c45-e091-47c26e5d90e9"
      },
      "source": [
        "from sklearn.linear_model import LogisticRegression\n",
        "logr = LogisticRegression()\n",
        "logr.fit(X_train2, Y_train)\n",
        "print(logr.score(X_train2, Y_train))\n",
        "print(logr.score(X_valid2, Y_valid))"
      ],
      "execution_count": 23,
      "outputs": [
        {
          "output_type": "stream",
          "text": [
            "1.0\n",
            "0.32\n"
          ],
          "name": "stdout"
        }
      ]
    },
    {
      "cell_type": "code",
      "metadata": {
        "id": "IoIMJv4RY-hj",
        "colab_type": "code",
        "colab": {}
      },
      "source": [
        "#Logistic Regression in Tensorflow\n",
        "\n",
        "i = Input(shape=(D,))\n",
        "x = Dense(1, activation='sigmoid')(i)\n",
        "\n",
        "linearModel = Model(i, x)"
      ],
      "execution_count": 0,
      "outputs": []
    },
    {
      "cell_type": "code",
      "metadata": {
        "id": "nsCr1GSTfBAD",
        "colab_type": "code",
        "colab": {}
      },
      "source": [
        "linearModel.compile(optimizer='adam', loss='binary_crossentropy', metrics=['accuracy'])"
      ],
      "execution_count": 0,
      "outputs": []
    },
    {
      "cell_type": "code",
      "metadata": {
        "id": "mtScHlM_ZW6N",
        "colab_type": "code",
        "colab": {
          "base_uri": "https://localhost:8080/",
          "height": 377
        },
        "outputId": "a68f8444-fab7-4ef0-e635-383b79a5aad0"
      },
      "source": [
        "#Lets try on unnormalized data\n",
        "r = linearModel.fit(\n",
        "    X_train, Y_train,\n",
        "    batch_size=128,\n",
        "    epochs = 10,\n",
        "    validation_data = (X_valid, Y_valid)\n",
        ")"
      ],
      "execution_count": 26,
      "outputs": [
        {
          "output_type": "stream",
          "text": [
            "Epoch 1/10\n",
            "24/24 [==============================] - 1s 29ms/step - loss: 0.9895 - accuracy: 0.9263 - val_loss: 0.5489 - val_accuracy: 0.3260\n",
            "Epoch 2/10\n",
            "24/24 [==============================] - 1s 21ms/step - loss: 0.0734 - accuracy: 0.9933 - val_loss: 0.6222 - val_accuracy: 0.3217\n",
            "Epoch 3/10\n",
            "24/24 [==============================] - 1s 22ms/step - loss: 0.0310 - accuracy: 0.9957 - val_loss: 0.5479 - val_accuracy: 0.3260\n",
            "Epoch 4/10\n",
            "24/24 [==============================] - 1s 21ms/step - loss: 7.8928e-05 - accuracy: 1.0000 - val_loss: 0.5604 - val_accuracy: 0.3240\n",
            "Epoch 5/10\n",
            "24/24 [==============================] - 1s 26ms/step - loss: 2.2506e-05 - accuracy: 1.0000 - val_loss: 0.5588 - val_accuracy: 0.3240\n",
            "Epoch 6/10\n",
            "24/24 [==============================] - 1s 26ms/step - loss: 8.6749e-06 - accuracy: 1.0000 - val_loss: 0.5582 - val_accuracy: 0.3243\n",
            "Epoch 7/10\n",
            "24/24 [==============================] - 1s 25ms/step - loss: 7.0261e-06 - accuracy: 1.0000 - val_loss: 0.5578 - val_accuracy: 0.3243\n",
            "Epoch 8/10\n",
            "24/24 [==============================] - 1s 24ms/step - loss: 5.9925e-06 - accuracy: 1.0000 - val_loss: 0.5574 - val_accuracy: 0.3243\n",
            "Epoch 9/10\n",
            "24/24 [==============================] - 1s 23ms/step - loss: 5.1627e-06 - accuracy: 1.0000 - val_loss: 0.5571 - val_accuracy: 0.3243\n",
            "Epoch 10/10\n",
            "24/24 [==============================] - 0s 16ms/step - loss: 4.7216e-06 - accuracy: 1.0000 - val_loss: 0.5567 - val_accuracy: 0.3243\n"
          ],
          "name": "stdout"
        }
      ]
    },
    {
      "cell_type": "code",
      "metadata": {
        "id": "8Tv6pTr5Zt3G",
        "colab_type": "code",
        "colab": {
          "base_uri": "https://localhost:8080/",
          "height": 265
        },
        "outputId": "7b30d4fa-9fca-43f3-84c6-bdab8c138554"
      },
      "source": [
        "plt.plot(r.history['loss'], label='loss')\n",
        "plt.plot(r.history['val_loss'], label='val_loss')\n",
        "plt.legend()\n",
        "plt.show()"
      ],
      "execution_count": 27,
      "outputs": [
        {
          "output_type": "display_data",
          "data": {
            "image/png": "[encoded data removed]",
            "text/plain": [
              "<Figure size 432x288 with 1 Axes>"
            ]
          },
          "metadata": {
            "tags": [],
            "needs_background": "light"
          }
        }
      ]
    },
    {
      "cell_type": "code",
      "metadata": {
        "id": "NzYGC3jGaPmF",
        "colab_type": "code",
        "colab": {
          "base_uri": "https://localhost:8080/",
          "height": 265
        },
        "outputId": "e7bd0693-461f-4c4d-f008-b96147410938"
      },
      "source": [
        "plt.plot(r.history['accuracy'], label='loss')\n",
        "plt.plot(r.history['val_accuracy'], label='val_accuracy')\n",
        "plt.legend()\n",
        "plt.show()"
      ],
      "execution_count": 28,
      "outputs": [
        {
          "output_type": "display_data",
          "data": {
            "image/png": "[encoded data removed]",
            "text/plain": [
              "<Figure size 432x288 with 1 Axes>"
            ]
          },
          "metadata": {
            "tags": [],
            "needs_background": "light"
          }
        }
      ]
    },
    {
      "cell_type": "code",
      "metadata": {
        "id": "SsGmRMznaR2F",
        "colab_type": "code",
        "colab": {
          "base_uri": "https://localhost:8080/",
          "height": 377
        },
        "outputId": "ec4898e0-3d09-42bf-970b-02dcacf08390"
      },
      "source": [
        "#With normalized data\n",
        "\n",
        "i = Input(shape=(D,))\n",
        "x = Dense(1, activation='sigmoid')(i)\n",
        "\n",
        "linearModel = Model(i, x)\n",
        "\n",
        "linearModel.compile(optimizer='adam', loss='binary_crossentropy', metrics=['accuracy'])\n",
        "\n",
        "r = linearModel.fit(\n",
        "    X_train2, Y_train,\n",
        "    batch_size=128,\n",
        "    epochs = 10,\n",
        "    validation_data = (X_valid2, Y_valid)\n",
        ")"
      ],
      "execution_count": 31,
      "outputs": [
        {
          "output_type": "stream",
          "text": [
            "Epoch 1/10\n",
            "24/24 [==============================] - 0s 21ms/step - loss: 0.1651 - accuracy: 0.9300 - val_loss: 1.4363 - val_accuracy: 0.3233\n",
            "Epoch 2/10\n",
            "24/24 [==============================] - 0s 17ms/step - loss: 0.0146 - accuracy: 0.9967 - val_loss: 1.1490 - val_accuracy: 0.3233\n",
            "Epoch 3/10\n",
            "24/24 [==============================] - 0s 17ms/step - loss: 0.0036 - accuracy: 1.0000 - val_loss: 1.2008 - val_accuracy: 0.3250\n",
            "Epoch 4/10\n",
            "24/24 [==============================] - 0s 18ms/step - loss: 0.0022 - accuracy: 1.0000 - val_loss: 1.2642 - val_accuracy: 0.3247\n",
            "Epoch 5/10\n",
            "24/24 [==============================] - 0s 16ms/step - loss: 0.0016 - accuracy: 1.0000 - val_loss: 1.3071 - val_accuracy: 0.3247\n",
            "Epoch 6/10\n",
            "24/24 [==============================] - 0s 17ms/step - loss: 0.0014 - accuracy: 1.0000 - val_loss: 1.3175 - val_accuracy: 0.3247\n",
            "Epoch 7/10\n",
            "24/24 [==============================] - 0s 17ms/step - loss: 0.0011 - accuracy: 1.0000 - val_loss: 1.3641 - val_accuracy: 0.3243\n",
            "Epoch 8/10\n",
            "24/24 [==============================] - 1s 23ms/step - loss: 9.8329e-04 - accuracy: 1.0000 - val_loss: 1.3904 - val_accuracy: 0.3243\n",
            "Epoch 9/10\n",
            "24/24 [==============================] - 1s 22ms/step - loss: 8.6338e-04 - accuracy: 1.0000 - val_loss: 1.4103 - val_accuracy: 0.3243\n",
            "Epoch 10/10\n",
            "24/24 [==============================] - 1s 23ms/step - loss: 7.6499e-04 - accuracy: 1.0000 - val_loss: 1.4372 - val_accuracy: 0.3243\n"
          ],
          "name": "stdout"
        }
      ]
    },
    {
      "cell_type": "code",
      "metadata": {
        "id": "UJyU6ORpaciG",
        "colab_type": "code",
        "colab": {
          "base_uri": "https://localhost:8080/",
          "height": 265
        },
        "outputId": "b2f440f3-34df-4be0-ba97-8122e74e5a8e"
      },
      "source": [
        "plt.plot(r.history['loss'], label='loss')\n",
        "plt.plot(r.history['val_loss'], label='val_loss')\n",
        "plt.legend()\n",
        "plt.show()"
      ],
      "execution_count": 32,
      "outputs": [
        {
          "output_type": "display_data",
          "data": {
            "image/png": "[encoded data removed]",
            "text/plain": [
              "<Figure size 432x288 with 1 Axes>"
            ]
          },
          "metadata": {
            "tags": [],
            "needs_background": "light"
          }
        }
      ]
    },
    {
      "cell_type": "code",
      "metadata": {
        "id": "TjpUAYCuag28",
        "colab_type": "code",
        "colab": {
          "base_uri": "https://localhost:8080/",
          "height": 265
        },
        "outputId": "ecb51431-3703-4ecd-e885-6dd73ba47112"
      },
      "source": [
        "plt.plot(r.history['accuracy'], label='loss')\n",
        "plt.plot(r.history['val_accuracy'], label='val_accuracy')\n",
        "plt.legend()\n",
        "plt.show()"
      ],
      "execution_count": 33,
      "outputs": [
        {
          "output_type": "display_data",
          "data": {
            "image/png": "[encoded data removed]",
            "text/plain": [
              "<Figure size 432x288 with 1 Axes>"
            ]
          },
          "metadata": {
            "tags": [],
            "needs_background": "light"
          }
        }
      ]
    }
  ]
}